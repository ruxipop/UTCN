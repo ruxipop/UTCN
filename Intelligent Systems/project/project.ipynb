{
 "cells": [
  {
   "cell_type": "markdown",
   "id": "85f053a4",
   "metadata": {},
   "source": [
    "# Setup"
   ]
  },
  {
   "cell_type": "markdown",
   "id": "52860b94",
   "metadata": {},
   "source": [
    "Initial importam cateva librari uzuale si definim functia care va fi folosita pentru a salva figurile generate."
   ]
  },
  {
   "cell_type": "code",
   "execution_count": 1,
   "id": "08512443",
   "metadata": {},
   "outputs": [],
   "source": [
    "import os\n",
    "import matplotlib.pyplot as plt\n",
    "import numpy as np\n",
    "import pandas as pd\n",
    "import seaborn as sns\n",
    "\n",
    "from sklearn.svm import SVC\n",
    "from sklearn.model_selection import GridSearchCV\n",
    "from sklearn.neighbors import KNeighborsClassifier\n",
    "from sklearn.naive_bayes import GaussianNB\n",
    "from sklearn.tree import DecisionTreeClassifier as dtc\n",
    "from sklearn import ensemble\n",
    "from pandas.plotting import scatter_matrix\n",
    "from sklearn.model_selection import GridSearchCV\n",
    "from sklearn.pipeline import Pipeline\n",
    "from sklearn.preprocessing import StandardScaler\n",
    "from __future__ import division, print_function, unicode_literals\n",
    "from sklearn.metrics import mean_squared_error\n",
    "from sklearn.metrics import mean_absolute_error\n",
    "from sklearn.model_selection import train_test_split\n",
    "from sklearn.metrics import recall_score\n",
    "from sklearn.metrics import precision_score\n",
    "from sklearn.metrics import accuracy_score\n",
    "from sklearn.model_selection import cross_val_score\n",
    "\n",
    "# to make this notebook's output stable across runs\n",
    "np.random.seed(42)\n",
    "\n",
    "# To plot pretty figures\n",
    "%matplotlib inline\n",
    "import matplotlib as mpl\n",
    "import matplotlib.pyplot as plt\n",
    "mpl.rc('axes', labelsize=14)\n",
    "mpl.rc('xtick', labelsize=12)\n",
    "mpl.rc('ytick', labelsize=12)\n",
    "\n",
    "# where to save the figures\n",
    "PROJECT_ROOT_DIR = \".\"\n",
    "CHAPTER_ID = \"merge_conflicts\"\n",
    "IMAGES_PATH = os.path.join(PROJECT_ROOT_DIR, \"images_merge_conflicts\", CHAPTER_ID)\n",
    "\n",
    "def save_fig(fig_id, tight_layout=True, fig_extension=\"png\", resolution=300):\n",
    "    path = os.path.join(IMAGES_PATH, fig_id + \".\" + fig_extension)\n",
    "    print(\"Saving figure\", fig_id)\n",
    "    if tight_layout:\n",
    "        plt.tight_layout()\n",
    "    plt.savefig(path, format=fig_extension, dpi=resolution)\n",
    "\n",
    "# ignore useless warnings\n",
    "import warnings\n",
    "warnings.filterwarnings(action=\"ignore\", message=\"^internal gelsd\")"
   ]
  },
  {
   "cell_type": "markdown",
   "id": "9e633591",
   "metadata": {},
   "source": [
    "# Get the data"
   ]
  },
  {
   "cell_type": "markdown",
   "id": "3088e464",
   "metadata": {},
   "source": [
    "Incarcam datele in data din fisierul csv si afisam datele citite"
   ]
  },
  {
   "cell_type": "code",
   "execution_count": 2,
   "id": "78a078e5",
   "metadata": {},
   "outputs": [
    {
     "data": {
      "text/html": [
       "<div>\n",
       "<style scoped>\n",
       "    .dataframe tbody tr th:only-of-type {\n",
       "        vertical-align: middle;\n",
       "    }\n",
       "\n",
       "    .dataframe tbody tr th {\n",
       "        vertical-align: top;\n",
       "    }\n",
       "\n",
       "    .dataframe thead th {\n",
       "        text-align: right;\n",
       "    }\n",
       "</style>\n",
       "<table border=\"1\" class=\"dataframe\">\n",
       "  <thead>\n",
       "    <tr style=\"text-align: right;\">\n",
       "      <th></th>\n",
       "      <th>commit</th>\n",
       "      <th>parent1</th>\n",
       "      <th>parent2</th>\n",
       "      <th>ancestor</th>\n",
       "      <th>is pr</th>\n",
       "      <th>added lines</th>\n",
       "      <th>deleted lines</th>\n",
       "      <th>devs parent1</th>\n",
       "      <th>devs parent2</th>\n",
       "      <th>time</th>\n",
       "      <th>...</th>\n",
       "      <th>add</th>\n",
       "      <th>remove</th>\n",
       "      <th>use</th>\n",
       "      <th>delete</th>\n",
       "      <th>change</th>\n",
       "      <th>messages_min</th>\n",
       "      <th>messages_max</th>\n",
       "      <th>messages_mean</th>\n",
       "      <th>messages_median</th>\n",
       "      <th>conflict</th>\n",
       "    </tr>\n",
       "  </thead>\n",
       "  <tbody>\n",
       "    <tr>\n",
       "      <th>0</th>\n",
       "      <td>efc0bcd1d6199448c323549fdc45310750b48c85</td>\n",
       "      <td>fb9f2a65cabba5a924b89a45793914066471b2ab</td>\n",
       "      <td>5ee7c7c750e9ecffaea12f97d5b05b2445e7c007</td>\n",
       "      <td>fb9f2a65cabba5a924b89a45793914066471b2ab</td>\n",
       "      <td>1</td>\n",
       "      <td>5</td>\n",
       "      <td>0</td>\n",
       "      <td>0</td>\n",
       "      <td>1</td>\n",
       "      <td>23</td>\n",
       "      <td>...</td>\n",
       "      <td>0</td>\n",
       "      <td>0</td>\n",
       "      <td>0</td>\n",
       "      <td>0</td>\n",
       "      <td>0</td>\n",
       "      <td>20</td>\n",
       "      <td>65</td>\n",
       "      <td>35.40000</td>\n",
       "      <td>20.0</td>\n",
       "      <td>0</td>\n",
       "    </tr>\n",
       "    <tr>\n",
       "      <th>1</th>\n",
       "      <td>287b9b838b6b6b212ef538aa537aef76110ee111</td>\n",
       "      <td>72fd7d81c9c7e28af8740f5a1b210a803290383d</td>\n",
       "      <td>fb9f2a65cabba5a924b89a45793914066471b2ab</td>\n",
       "      <td>a18c1088c892f1e6ed4b7d541e68b2e4b039a42e</td>\n",
       "      <td>0</td>\n",
       "      <td>1166</td>\n",
       "      <td>11267</td>\n",
       "      <td>1</td>\n",
       "      <td>2</td>\n",
       "      <td>371</td>\n",
       "      <td>...</td>\n",
       "      <td>0</td>\n",
       "      <td>0</td>\n",
       "      <td>0</td>\n",
       "      <td>0</td>\n",
       "      <td>0</td>\n",
       "      <td>31</td>\n",
       "      <td>117</td>\n",
       "      <td>58.56383</td>\n",
       "      <td>53.5</td>\n",
       "      <td>1</td>\n",
       "    </tr>\n",
       "    <tr>\n",
       "      <th>2</th>\n",
       "      <td>e7478680c0db825239ea9628967728c8577bb5c2</td>\n",
       "      <td>36977963caa2896ad9a4a92b2bdcd85189beccb1</td>\n",
       "      <td>bc230857adc3a9763bc7d89793d826463c857c00</td>\n",
       "      <td>36977963caa2896ad9a4a92b2bdcd85189beccb1</td>\n",
       "      <td>1</td>\n",
       "      <td>0</td>\n",
       "      <td>0</td>\n",
       "      <td>0</td>\n",
       "      <td>1</td>\n",
       "      <td>22</td>\n",
       "      <td>...</td>\n",
       "      <td>0</td>\n",
       "      <td>0</td>\n",
       "      <td>0</td>\n",
       "      <td>0</td>\n",
       "      <td>0</td>\n",
       "      <td>18</td>\n",
       "      <td>18</td>\n",
       "      <td>18.00000</td>\n",
       "      <td>18.0</td>\n",
       "      <td>0</td>\n",
       "    </tr>\n",
       "    <tr>\n",
       "      <th>3</th>\n",
       "      <td>0c65b30a8fd3a7db40163fcb9b0004cb7487c0ff</td>\n",
       "      <td>419e6d2d9fb91f2d9cdbdd1161a6c7ecc329363f</td>\n",
       "      <td>877c43f8242b88447d0234400c6e9b5c7586b558</td>\n",
       "      <td>fe29962932a8e34f0c3ac5cd795cd40090c9fabd</td>\n",
       "      <td>1</td>\n",
       "      <td>0</td>\n",
       "      <td>0</td>\n",
       "      <td>2</td>\n",
       "      <td>1</td>\n",
       "      <td>24</td>\n",
       "      <td>...</td>\n",
       "      <td>0</td>\n",
       "      <td>0</td>\n",
       "      <td>0</td>\n",
       "      <td>0</td>\n",
       "      <td>0</td>\n",
       "      <td>22</td>\n",
       "      <td>63</td>\n",
       "      <td>38.80000</td>\n",
       "      <td>31.0</td>\n",
       "      <td>0</td>\n",
       "    </tr>\n",
       "    <tr>\n",
       "      <th>4</th>\n",
       "      <td>419e6d2d9fb91f2d9cdbdd1161a6c7ecc329363f</td>\n",
       "      <td>7899f565d3461ed287e61662c8d399aafcac9e42</td>\n",
       "      <td>5e68e04e310c4f57a19d4cfa6be1e0ba3a8801d6</td>\n",
       "      <td>236b85af833398e0f07d08b7d7a25734d8c1b11d</td>\n",
       "      <td>0</td>\n",
       "      <td>0</td>\n",
       "      <td>0</td>\n",
       "      <td>1</td>\n",
       "      <td>2</td>\n",
       "      <td>2</td>\n",
       "      <td>...</td>\n",
       "      <td>0</td>\n",
       "      <td>0</td>\n",
       "      <td>0</td>\n",
       "      <td>0</td>\n",
       "      <td>0</td>\n",
       "      <td>31</td>\n",
       "      <td>56</td>\n",
       "      <td>43.50000</td>\n",
       "      <td>43.5</td>\n",
       "      <td>1</td>\n",
       "    </tr>\n",
       "    <tr>\n",
       "      <th>...</th>\n",
       "      <td>...</td>\n",
       "      <td>...</td>\n",
       "      <td>...</td>\n",
       "      <td>...</td>\n",
       "      <td>...</td>\n",
       "      <td>...</td>\n",
       "      <td>...</td>\n",
       "      <td>...</td>\n",
       "      <td>...</td>\n",
       "      <td>...</td>\n",
       "      <td>...</td>\n",
       "      <td>...</td>\n",
       "      <td>...</td>\n",
       "      <td>...</td>\n",
       "      <td>...</td>\n",
       "      <td>...</td>\n",
       "      <td>...</td>\n",
       "      <td>...</td>\n",
       "      <td>...</td>\n",
       "      <td>...</td>\n",
       "      <td>...</td>\n",
       "    </tr>\n",
       "    <tr>\n",
       "      <th>26983</th>\n",
       "      <td>c52216c411e4d7d9ef7845926f471f49f48b3ea5</td>\n",
       "      <td>5d50b1ca2496766e6d3f3673e1f6abff20f9ffaf</td>\n",
       "      <td>d7727481e759ef6ac2c285d64c4ebb86666652f9</td>\n",
       "      <td>5d50b1ca2496766e6d3f3673e1f6abff20f9ffaf</td>\n",
       "      <td>1</td>\n",
       "      <td>66</td>\n",
       "      <td>0</td>\n",
       "      <td>0</td>\n",
       "      <td>1</td>\n",
       "      <td>184</td>\n",
       "      <td>...</td>\n",
       "      <td>0</td>\n",
       "      <td>0</td>\n",
       "      <td>0</td>\n",
       "      <td>0</td>\n",
       "      <td>0</td>\n",
       "      <td>19</td>\n",
       "      <td>19</td>\n",
       "      <td>19.00000</td>\n",
       "      <td>19.0</td>\n",
       "      <td>0</td>\n",
       "    </tr>\n",
       "    <tr>\n",
       "      <th>26984</th>\n",
       "      <td>8bf4fb99b439379ed99f0a4fc761fa65ca31d8ba</td>\n",
       "      <td>a248acc589a43d7234d383252546b99b27ec32b9</td>\n",
       "      <td>478863dfe34904b9490be64c0d508e0af6b46b2f</td>\n",
       "      <td>ebffde52d50a6c8f9973ec675b8ab17dea5420e1</td>\n",
       "      <td>1</td>\n",
       "      <td>1</td>\n",
       "      <td>1</td>\n",
       "      <td>2</td>\n",
       "      <td>1</td>\n",
       "      <td>762</td>\n",
       "      <td>...</td>\n",
       "      <td>0</td>\n",
       "      <td>0</td>\n",
       "      <td>0</td>\n",
       "      <td>0</td>\n",
       "      <td>0</td>\n",
       "      <td>30</td>\n",
       "      <td>34</td>\n",
       "      <td>33.20000</td>\n",
       "      <td>34.0</td>\n",
       "      <td>0</td>\n",
       "    </tr>\n",
       "    <tr>\n",
       "      <th>26985</th>\n",
       "      <td>a27a50f87f61d871ddb1aeed6993b132fd657ea6</td>\n",
       "      <td>542ff7fe4297d73a39664b468962ab681e4bea91</td>\n",
       "      <td>ddddae9b5f9537cb06d2c4872184fa25d9f3ca77</td>\n",
       "      <td>542ff7fe4297d73a39664b468962ab681e4bea91</td>\n",
       "      <td>1</td>\n",
       "      <td>1</td>\n",
       "      <td>1</td>\n",
       "      <td>0</td>\n",
       "      <td>1</td>\n",
       "      <td>22</td>\n",
       "      <td>...</td>\n",
       "      <td>0</td>\n",
       "      <td>0</td>\n",
       "      <td>0</td>\n",
       "      <td>0</td>\n",
       "      <td>0</td>\n",
       "      <td>8</td>\n",
       "      <td>58</td>\n",
       "      <td>33.00000</td>\n",
       "      <td>33.0</td>\n",
       "      <td>0</td>\n",
       "    </tr>\n",
       "    <tr>\n",
       "      <th>26986</th>\n",
       "      <td>ddddae9b5f9537cb06d2c4872184fa25d9f3ca77</td>\n",
       "      <td>542ff7fe4297d73a39664b468962ab681e4bea91</td>\n",
       "      <td>e6ed8366b6e1e72bc8de97159198c64edab5cd96</td>\n",
       "      <td>542ff7fe4297d73a39664b468962ab681e4bea91</td>\n",
       "      <td>1</td>\n",
       "      <td>1</td>\n",
       "      <td>1</td>\n",
       "      <td>0</td>\n",
       "      <td>1</td>\n",
       "      <td>11</td>\n",
       "      <td>...</td>\n",
       "      <td>0</td>\n",
       "      <td>0</td>\n",
       "      <td>0</td>\n",
       "      <td>0</td>\n",
       "      <td>0</td>\n",
       "      <td>8</td>\n",
       "      <td>8</td>\n",
       "      <td>8.00000</td>\n",
       "      <td>8.0</td>\n",
       "      <td>0</td>\n",
       "    </tr>\n",
       "    <tr>\n",
       "      <th>26987</th>\n",
       "      <td>542ff7fe4297d73a39664b468962ab681e4bea91</td>\n",
       "      <td>40ebd5bf75bfec992002c2bf9fbd34df340cc78e</td>\n",
       "      <td>b1a1b23b94d86205eed84ad6bf643ed737d0bf2e</td>\n",
       "      <td>40ebd5bf75bfec992002c2bf9fbd34df340cc78e</td>\n",
       "      <td>1</td>\n",
       "      <td>1</td>\n",
       "      <td>1</td>\n",
       "      <td>0</td>\n",
       "      <td>1</td>\n",
       "      <td>408</td>\n",
       "      <td>...</td>\n",
       "      <td>0</td>\n",
       "      <td>0</td>\n",
       "      <td>0</td>\n",
       "      <td>0</td>\n",
       "      <td>0</td>\n",
       "      <td>23</td>\n",
       "      <td>23</td>\n",
       "      <td>23.00000</td>\n",
       "      <td>23.0</td>\n",
       "      <td>0</td>\n",
       "    </tr>\n",
       "  </tbody>\n",
       "</table>\n",
       "<p>26988 rows × 37 columns</p>\n",
       "</div>"
      ],
      "text/plain": [
       "                                         commit  \\\n",
       "0      efc0bcd1d6199448c323549fdc45310750b48c85   \n",
       "1      287b9b838b6b6b212ef538aa537aef76110ee111   \n",
       "2      e7478680c0db825239ea9628967728c8577bb5c2   \n",
       "3      0c65b30a8fd3a7db40163fcb9b0004cb7487c0ff   \n",
       "4      419e6d2d9fb91f2d9cdbdd1161a6c7ecc329363f   \n",
       "...                                         ...   \n",
       "26983  c52216c411e4d7d9ef7845926f471f49f48b3ea5   \n",
       "26984  8bf4fb99b439379ed99f0a4fc761fa65ca31d8ba   \n",
       "26985  a27a50f87f61d871ddb1aeed6993b132fd657ea6   \n",
       "26986  ddddae9b5f9537cb06d2c4872184fa25d9f3ca77   \n",
       "26987  542ff7fe4297d73a39664b468962ab681e4bea91   \n",
       "\n",
       "                                        parent1  \\\n",
       "0      fb9f2a65cabba5a924b89a45793914066471b2ab   \n",
       "1      72fd7d81c9c7e28af8740f5a1b210a803290383d   \n",
       "2      36977963caa2896ad9a4a92b2bdcd85189beccb1   \n",
       "3      419e6d2d9fb91f2d9cdbdd1161a6c7ecc329363f   \n",
       "4      7899f565d3461ed287e61662c8d399aafcac9e42   \n",
       "...                                         ...   \n",
       "26983  5d50b1ca2496766e6d3f3673e1f6abff20f9ffaf   \n",
       "26984  a248acc589a43d7234d383252546b99b27ec32b9   \n",
       "26985  542ff7fe4297d73a39664b468962ab681e4bea91   \n",
       "26986  542ff7fe4297d73a39664b468962ab681e4bea91   \n",
       "26987  40ebd5bf75bfec992002c2bf9fbd34df340cc78e   \n",
       "\n",
       "                                        parent2  \\\n",
       "0      5ee7c7c750e9ecffaea12f97d5b05b2445e7c007   \n",
       "1      fb9f2a65cabba5a924b89a45793914066471b2ab   \n",
       "2      bc230857adc3a9763bc7d89793d826463c857c00   \n",
       "3      877c43f8242b88447d0234400c6e9b5c7586b558   \n",
       "4      5e68e04e310c4f57a19d4cfa6be1e0ba3a8801d6   \n",
       "...                                         ...   \n",
       "26983  d7727481e759ef6ac2c285d64c4ebb86666652f9   \n",
       "26984  478863dfe34904b9490be64c0d508e0af6b46b2f   \n",
       "26985  ddddae9b5f9537cb06d2c4872184fa25d9f3ca77   \n",
       "26986  e6ed8366b6e1e72bc8de97159198c64edab5cd96   \n",
       "26987  b1a1b23b94d86205eed84ad6bf643ed737d0bf2e   \n",
       "\n",
       "                                       ancestor  is pr  added lines  \\\n",
       "0      fb9f2a65cabba5a924b89a45793914066471b2ab      1            5   \n",
       "1      a18c1088c892f1e6ed4b7d541e68b2e4b039a42e      0         1166   \n",
       "2      36977963caa2896ad9a4a92b2bdcd85189beccb1      1            0   \n",
       "3      fe29962932a8e34f0c3ac5cd795cd40090c9fabd      1            0   \n",
       "4      236b85af833398e0f07d08b7d7a25734d8c1b11d      0            0   \n",
       "...                                         ...    ...          ...   \n",
       "26983  5d50b1ca2496766e6d3f3673e1f6abff20f9ffaf      1           66   \n",
       "26984  ebffde52d50a6c8f9973ec675b8ab17dea5420e1      1            1   \n",
       "26985  542ff7fe4297d73a39664b468962ab681e4bea91      1            1   \n",
       "26986  542ff7fe4297d73a39664b468962ab681e4bea91      1            1   \n",
       "26987  40ebd5bf75bfec992002c2bf9fbd34df340cc78e      1            1   \n",
       "\n",
       "       deleted lines  devs parent1  devs parent2  time  ...  add  remove  use  \\\n",
       "0                  0             0             1    23  ...    0       0    0   \n",
       "1              11267             1             2   371  ...    0       0    0   \n",
       "2                  0             0             1    22  ...    0       0    0   \n",
       "3                  0             2             1    24  ...    0       0    0   \n",
       "4                  0             1             2     2  ...    0       0    0   \n",
       "...              ...           ...           ...   ...  ...  ...     ...  ...   \n",
       "26983              0             0             1   184  ...    0       0    0   \n",
       "26984              1             2             1   762  ...    0       0    0   \n",
       "26985              1             0             1    22  ...    0       0    0   \n",
       "26986              1             0             1    11  ...    0       0    0   \n",
       "26987              1             0             1   408  ...    0       0    0   \n",
       "\n",
       "       delete  change  messages_min  messages_max  messages_mean  \\\n",
       "0           0       0            20            65       35.40000   \n",
       "1           0       0            31           117       58.56383   \n",
       "2           0       0            18            18       18.00000   \n",
       "3           0       0            22            63       38.80000   \n",
       "4           0       0            31            56       43.50000   \n",
       "...       ...     ...           ...           ...            ...   \n",
       "26983       0       0            19            19       19.00000   \n",
       "26984       0       0            30            34       33.20000   \n",
       "26985       0       0             8            58       33.00000   \n",
       "26986       0       0             8             8        8.00000   \n",
       "26987       0       0            23            23       23.00000   \n",
       "\n",
       "       messages_median  conflict  \n",
       "0                 20.0         0  \n",
       "1                 53.5         1  \n",
       "2                 18.0         0  \n",
       "3                 31.0         0  \n",
       "4                 43.5         1  \n",
       "...                ...       ...  \n",
       "26983             19.0         0  \n",
       "26984             34.0         0  \n",
       "26985             33.0         0  \n",
       "26986              8.0         0  \n",
       "26987             23.0         0  \n",
       "\n",
       "[26988 rows x 37 columns]"
      ]
     },
     "execution_count": 2,
     "metadata": {},
     "output_type": "execute_result"
    }
   ],
   "source": [
    "data=pd.read_csv(\"MergeConflictsDataset.csv\",header=0)\n",
    "data"
   ]
  },
  {
   "cell_type": "markdown",
   "id": "eff00ca8",
   "metadata": {},
   "source": [
    "Afisam numarul de randuri si coloane"
   ]
  },
  {
   "cell_type": "code",
   "execution_count": 3,
   "id": "49f1fd86",
   "metadata": {
    "scrolled": true
   },
   "outputs": [
    {
     "data": {
      "text/plain": [
       "(26988, 37)"
      ]
     },
     "execution_count": 3,
     "metadata": {},
     "output_type": "execute_result"
    }
   ],
   "source": [
    "data.shape"
   ]
  },
  {
   "cell_type": "markdown",
   "id": "a8942bca",
   "metadata": {},
   "source": [
    "Afisam denumirea coloanelor"
   ]
  },
  {
   "cell_type": "code",
   "execution_count": 4,
   "id": "f4fff6db",
   "metadata": {},
   "outputs": [
    {
     "data": {
      "text/plain": [
       "Index(['commit', 'parent1', 'parent2', 'ancestor', 'is pr', 'added lines',\n",
       "       'deleted lines', 'devs parent1', 'devs parent2', 'time', 'nr files',\n",
       "       'added files', 'deleted files', 'renamed files', 'copied files',\n",
       "       'modified files', 'nr commits1', 'nr commits2', 'density1', 'density2',\n",
       "       'fix', 'bug', 'feature', 'improve', 'document', 'refactor', 'update',\n",
       "       'add', 'remove', 'use', 'delete', 'change', 'messages_min',\n",
       "       'messages_max', 'messages_mean', 'messages_median', 'conflict'],\n",
       "      dtype='object')"
      ]
     },
     "execution_count": 4,
     "metadata": {},
     "output_type": "execute_result"
    }
   ],
   "source": [
    "data.columns"
   ]
  },
  {
   "cell_type": "markdown",
   "id": "8529bfda",
   "metadata": {},
   "source": [
    "Afisam informatii despre datele care se afla in tabel"
   ]
  },
  {
   "cell_type": "code",
   "execution_count": 5,
   "id": "3055aac5",
   "metadata": {
    "scrolled": true
   },
   "outputs": [
    {
     "name": "stdout",
     "output_type": "stream",
     "text": [
      "<class 'pandas.core.frame.DataFrame'>\n",
      "RangeIndex: 26988 entries, 0 to 26987\n",
      "Data columns (total 37 columns):\n",
      " #   Column           Non-Null Count  Dtype  \n",
      "---  ------           --------------  -----  \n",
      " 0   commit           26988 non-null  object \n",
      " 1   parent1          26988 non-null  object \n",
      " 2   parent2          26988 non-null  object \n",
      " 3   ancestor         26987 non-null  object \n",
      " 4   is pr            26988 non-null  int64  \n",
      " 5   added lines      26988 non-null  int64  \n",
      " 6   deleted lines    26988 non-null  int64  \n",
      " 7   devs parent1     26988 non-null  int64  \n",
      " 8   devs parent2     26988 non-null  int64  \n",
      " 9   time             26988 non-null  int64  \n",
      " 10  nr files         26988 non-null  int64  \n",
      " 11  added files      26988 non-null  int64  \n",
      " 12  deleted files    26988 non-null  int64  \n",
      " 13  renamed files    26988 non-null  int64  \n",
      " 14  copied files     26988 non-null  int64  \n",
      " 15  modified files   26988 non-null  int64  \n",
      " 16  nr commits1      26988 non-null  int64  \n",
      " 17  nr commits2      26988 non-null  int64  \n",
      " 18  density1         26988 non-null  int64  \n",
      " 19  density2         26988 non-null  int64  \n",
      " 20  fix              26988 non-null  int64  \n",
      " 21  bug              26988 non-null  int64  \n",
      " 22  feature          26988 non-null  int64  \n",
      " 23  improve          26988 non-null  int64  \n",
      " 24  document         26988 non-null  int64  \n",
      " 25  refactor         26988 non-null  int64  \n",
      " 26  update           26988 non-null  int64  \n",
      " 27  add              26988 non-null  int64  \n",
      " 28  remove           26988 non-null  int64  \n",
      " 29  use              26988 non-null  int64  \n",
      " 30  delete           26988 non-null  int64  \n",
      " 31  change           26988 non-null  int64  \n",
      " 32  messages_min     26988 non-null  int64  \n",
      " 33  messages_max     26988 non-null  int64  \n",
      " 34  messages_mean    26988 non-null  float64\n",
      " 35  messages_median  26988 non-null  float64\n",
      " 36  conflict         26988 non-null  int64  \n",
      "dtypes: float64(2), int64(31), object(4)\n",
      "memory usage: 7.6+ MB\n"
     ]
    }
   ],
   "source": [
    "data.info()"
   ]
  },
  {
   "cell_type": "markdown",
   "id": "a6bed5b1",
   "metadata": {},
   "source": [
    "Stergem coloanele care nu sunt relevante pentru rezolvarea conflictului\n"
   ]
  },
  {
   "cell_type": "code",
   "execution_count": 6,
   "id": "7100a3e5",
   "metadata": {},
   "outputs": [],
   "source": [
    "data_kept = data.drop(['commit','parent1','parent2','ancestor'], axis=1)"
   ]
  },
  {
   "cell_type": "code",
   "execution_count": 7,
   "id": "1cf1c423",
   "metadata": {},
   "outputs": [
    {
     "name": "stdout",
     "output_type": "stream",
     "text": [
      "<class 'pandas.core.frame.DataFrame'>\n",
      "RangeIndex: 26988 entries, 0 to 26987\n",
      "Data columns (total 33 columns):\n",
      " #   Column           Non-Null Count  Dtype  \n",
      "---  ------           --------------  -----  \n",
      " 0   is pr            26988 non-null  int64  \n",
      " 1   added lines      26988 non-null  int64  \n",
      " 2   deleted lines    26988 non-null  int64  \n",
      " 3   devs parent1     26988 non-null  int64  \n",
      " 4   devs parent2     26988 non-null  int64  \n",
      " 5   time             26988 non-null  int64  \n",
      " 6   nr files         26988 non-null  int64  \n",
      " 7   added files      26988 non-null  int64  \n",
      " 8   deleted files    26988 non-null  int64  \n",
      " 9   renamed files    26988 non-null  int64  \n",
      " 10  copied files     26988 non-null  int64  \n",
      " 11  modified files   26988 non-null  int64  \n",
      " 12  nr commits1      26988 non-null  int64  \n",
      " 13  nr commits2      26988 non-null  int64  \n",
      " 14  density1         26988 non-null  int64  \n",
      " 15  density2         26988 non-null  int64  \n",
      " 16  fix              26988 non-null  int64  \n",
      " 17  bug              26988 non-null  int64  \n",
      " 18  feature          26988 non-null  int64  \n",
      " 19  improve          26988 non-null  int64  \n",
      " 20  document         26988 non-null  int64  \n",
      " 21  refactor         26988 non-null  int64  \n",
      " 22  update           26988 non-null  int64  \n",
      " 23  add              26988 non-null  int64  \n",
      " 24  remove           26988 non-null  int64  \n",
      " 25  use              26988 non-null  int64  \n",
      " 26  delete           26988 non-null  int64  \n",
      " 27  change           26988 non-null  int64  \n",
      " 28  messages_min     26988 non-null  int64  \n",
      " 29  messages_max     26988 non-null  int64  \n",
      " 30  messages_mean    26988 non-null  float64\n",
      " 31  messages_median  26988 non-null  float64\n",
      " 32  conflict         26988 non-null  int64  \n",
      "dtypes: float64(2), int64(31)\n",
      "memory usage: 6.8 MB\n"
     ]
    }
   ],
   "source": [
    "data_kept.info()"
   ]
  },
  {
   "cell_type": "markdown",
   "id": "69c2ffbe",
   "metadata": {},
   "source": [
    "Afisam informati despre coloanele salvate"
   ]
  },
  {
   "cell_type": "code",
   "execution_count": 8,
   "id": "f91403e6",
   "metadata": {},
   "outputs": [
    {
     "data": {
      "text/html": [
       "<div>\n",
       "<style scoped>\n",
       "    .dataframe tbody tr th:only-of-type {\n",
       "        vertical-align: middle;\n",
       "    }\n",
       "\n",
       "    .dataframe tbody tr th {\n",
       "        vertical-align: top;\n",
       "    }\n",
       "\n",
       "    .dataframe thead th {\n",
       "        text-align: right;\n",
       "    }\n",
       "</style>\n",
       "<table border=\"1\" class=\"dataframe\">\n",
       "  <thead>\n",
       "    <tr style=\"text-align: right;\">\n",
       "      <th></th>\n",
       "      <th>is pr</th>\n",
       "      <th>added lines</th>\n",
       "      <th>deleted lines</th>\n",
       "      <th>devs parent1</th>\n",
       "      <th>devs parent2</th>\n",
       "      <th>time</th>\n",
       "      <th>nr files</th>\n",
       "      <th>added files</th>\n",
       "      <th>deleted files</th>\n",
       "      <th>renamed files</th>\n",
       "      <th>...</th>\n",
       "      <th>add</th>\n",
       "      <th>remove</th>\n",
       "      <th>use</th>\n",
       "      <th>delete</th>\n",
       "      <th>change</th>\n",
       "      <th>messages_min</th>\n",
       "      <th>messages_max</th>\n",
       "      <th>messages_mean</th>\n",
       "      <th>messages_median</th>\n",
       "      <th>conflict</th>\n",
       "    </tr>\n",
       "  </thead>\n",
       "  <tbody>\n",
       "    <tr>\n",
       "      <th>count</th>\n",
       "      <td>26988.000000</td>\n",
       "      <td>2.698800e+04</td>\n",
       "      <td>2.698800e+04</td>\n",
       "      <td>26988.000000</td>\n",
       "      <td>26988.000000</td>\n",
       "      <td>26988.000000</td>\n",
       "      <td>26988.000000</td>\n",
       "      <td>26988.000000</td>\n",
       "      <td>26988.000000</td>\n",
       "      <td>26988.000000</td>\n",
       "      <td>...</td>\n",
       "      <td>26988.000000</td>\n",
       "      <td>26988.000000</td>\n",
       "      <td>26988.000000</td>\n",
       "      <td>26988.000000</td>\n",
       "      <td>26988.000000</td>\n",
       "      <td>26988.000000</td>\n",
       "      <td>26988.000000</td>\n",
       "      <td>26988.000000</td>\n",
       "      <td>26988.000000</td>\n",
       "      <td>26988.000000</td>\n",
       "    </tr>\n",
       "    <tr>\n",
       "      <th>mean</th>\n",
       "      <td>0.777827</td>\n",
       "      <td>4.253755e+02</td>\n",
       "      <td>2.502937e+02</td>\n",
       "      <td>4.654254</td>\n",
       "      <td>1.911368</td>\n",
       "      <td>240.794501</td>\n",
       "      <td>0.751704</td>\n",
       "      <td>2.430006</td>\n",
       "      <td>1.395768</td>\n",
       "      <td>0.969690</td>\n",
       "      <td>...</td>\n",
       "      <td>4.314177</td>\n",
       "      <td>0.954980</td>\n",
       "      <td>1.338187</td>\n",
       "      <td>0.096228</td>\n",
       "      <td>1.007411</td>\n",
       "      <td>51.388024</td>\n",
       "      <td>104.634023</td>\n",
       "      <td>69.444945</td>\n",
       "      <td>68.011653</td>\n",
       "      <td>0.054432</td>\n",
       "    </tr>\n",
       "    <tr>\n",
       "      <th>std</th>\n",
       "      <td>0.415714</td>\n",
       "      <td>8.885240e+03</td>\n",
       "      <td>1.027630e+04</td>\n",
       "      <td>12.227462</td>\n",
       "      <td>6.532536</td>\n",
       "      <td>908.246361</td>\n",
       "      <td>10.617551</td>\n",
       "      <td>67.821839</td>\n",
       "      <td>90.589096</td>\n",
       "      <td>64.227302</td>\n",
       "      <td>...</td>\n",
       "      <td>12.921030</td>\n",
       "      <td>3.202485</td>\n",
       "      <td>4.268581</td>\n",
       "      <td>0.541770</td>\n",
       "      <td>6.031895</td>\n",
       "      <td>34.555932</td>\n",
       "      <td>89.457205</td>\n",
       "      <td>40.054486</td>\n",
       "      <td>39.381905</td>\n",
       "      <td>0.226872</td>\n",
       "    </tr>\n",
       "    <tr>\n",
       "      <th>min</th>\n",
       "      <td>0.000000</td>\n",
       "      <td>0.000000e+00</td>\n",
       "      <td>0.000000e+00</td>\n",
       "      <td>0.000000</td>\n",
       "      <td>0.000000</td>\n",
       "      <td>0.000000</td>\n",
       "      <td>0.000000</td>\n",
       "      <td>0.000000</td>\n",
       "      <td>0.000000</td>\n",
       "      <td>0.000000</td>\n",
       "      <td>...</td>\n",
       "      <td>0.000000</td>\n",
       "      <td>0.000000</td>\n",
       "      <td>0.000000</td>\n",
       "      <td>0.000000</td>\n",
       "      <td>0.000000</td>\n",
       "      <td>0.000000</td>\n",
       "      <td>0.000000</td>\n",
       "      <td>0.000000</td>\n",
       "      <td>0.000000</td>\n",
       "      <td>0.000000</td>\n",
       "    </tr>\n",
       "    <tr>\n",
       "      <th>25%</th>\n",
       "      <td>1.000000</td>\n",
       "      <td>2.000000e+00</td>\n",
       "      <td>1.000000e+00</td>\n",
       "      <td>0.000000</td>\n",
       "      <td>1.000000</td>\n",
       "      <td>9.000000</td>\n",
       "      <td>0.000000</td>\n",
       "      <td>0.000000</td>\n",
       "      <td>0.000000</td>\n",
       "      <td>0.000000</td>\n",
       "      <td>...</td>\n",
       "      <td>0.000000</td>\n",
       "      <td>0.000000</td>\n",
       "      <td>0.000000</td>\n",
       "      <td>0.000000</td>\n",
       "      <td>0.000000</td>\n",
       "      <td>29.000000</td>\n",
       "      <td>47.000000</td>\n",
       "      <td>41.000000</td>\n",
       "      <td>40.000000</td>\n",
       "      <td>0.000000</td>\n",
       "    </tr>\n",
       "    <tr>\n",
       "      <th>50%</th>\n",
       "      <td>1.000000</td>\n",
       "      <td>1.100000e+01</td>\n",
       "      <td>2.000000e+00</td>\n",
       "      <td>1.000000</td>\n",
       "      <td>1.000000</td>\n",
       "      <td>36.000000</td>\n",
       "      <td>0.000000</td>\n",
       "      <td>0.000000</td>\n",
       "      <td>0.000000</td>\n",
       "      <td>0.000000</td>\n",
       "      <td>...</td>\n",
       "      <td>1.000000</td>\n",
       "      <td>0.000000</td>\n",
       "      <td>0.000000</td>\n",
       "      <td>0.000000</td>\n",
       "      <td>0.000000</td>\n",
       "      <td>46.000000</td>\n",
       "      <td>88.000000</td>\n",
       "      <td>66.333333</td>\n",
       "      <td>65.000000</td>\n",
       "      <td>0.000000</td>\n",
       "    </tr>\n",
       "    <tr>\n",
       "      <th>75%</th>\n",
       "      <td>1.000000</td>\n",
       "      <td>7.500000e+01</td>\n",
       "      <td>1.500000e+01</td>\n",
       "      <td>3.000000</td>\n",
       "      <td>1.000000</td>\n",
       "      <td>139.000000</td>\n",
       "      <td>0.000000</td>\n",
       "      <td>0.000000</td>\n",
       "      <td>0.000000</td>\n",
       "      <td>0.000000</td>\n",
       "      <td>...</td>\n",
       "      <td>2.000000</td>\n",
       "      <td>0.000000</td>\n",
       "      <td>1.000000</td>\n",
       "      <td>0.000000</td>\n",
       "      <td>0.000000</td>\n",
       "      <td>67.000000</td>\n",
       "      <td>131.000000</td>\n",
       "      <td>91.689744</td>\n",
       "      <td>90.000000</td>\n",
       "      <td>0.000000</td>\n",
       "    </tr>\n",
       "    <tr>\n",
       "      <th>max</th>\n",
       "      <td>1.000000</td>\n",
       "      <td>1.140945e+06</td>\n",
       "      <td>1.140456e+06</td>\n",
       "      <td>158.000000</td>\n",
       "      <td>182.000000</td>\n",
       "      <td>21513.000000</td>\n",
       "      <td>1152.000000</td>\n",
       "      <td>10404.000000</td>\n",
       "      <td>10396.000000</td>\n",
       "      <td>10398.000000</td>\n",
       "      <td>...</td>\n",
       "      <td>176.000000</td>\n",
       "      <td>48.000000</td>\n",
       "      <td>78.000000</td>\n",
       "      <td>16.000000</td>\n",
       "      <td>312.000000</td>\n",
       "      <td>1326.000000</td>\n",
       "      <td>1326.000000</td>\n",
       "      <td>1326.000000</td>\n",
       "      <td>1326.000000</td>\n",
       "      <td>1.000000</td>\n",
       "    </tr>\n",
       "  </tbody>\n",
       "</table>\n",
       "<p>8 rows × 33 columns</p>\n",
       "</div>"
      ],
      "text/plain": [
       "              is pr   added lines  deleted lines  devs parent1  devs parent2  \\\n",
       "count  26988.000000  2.698800e+04   2.698800e+04  26988.000000  26988.000000   \n",
       "mean       0.777827  4.253755e+02   2.502937e+02      4.654254      1.911368   \n",
       "std        0.415714  8.885240e+03   1.027630e+04     12.227462      6.532536   \n",
       "min        0.000000  0.000000e+00   0.000000e+00      0.000000      0.000000   \n",
       "25%        1.000000  2.000000e+00   1.000000e+00      0.000000      1.000000   \n",
       "50%        1.000000  1.100000e+01   2.000000e+00      1.000000      1.000000   \n",
       "75%        1.000000  7.500000e+01   1.500000e+01      3.000000      1.000000   \n",
       "max        1.000000  1.140945e+06   1.140456e+06    158.000000    182.000000   \n",
       "\n",
       "               time      nr files   added files  deleted files  renamed files  \\\n",
       "count  26988.000000  26988.000000  26988.000000   26988.000000   26988.000000   \n",
       "mean     240.794501      0.751704      2.430006       1.395768       0.969690   \n",
       "std      908.246361     10.617551     67.821839      90.589096      64.227302   \n",
       "min        0.000000      0.000000      0.000000       0.000000       0.000000   \n",
       "25%        9.000000      0.000000      0.000000       0.000000       0.000000   \n",
       "50%       36.000000      0.000000      0.000000       0.000000       0.000000   \n",
       "75%      139.000000      0.000000      0.000000       0.000000       0.000000   \n",
       "max    21513.000000   1152.000000  10404.000000   10396.000000   10398.000000   \n",
       "\n",
       "       ...           add        remove           use        delete  \\\n",
       "count  ...  26988.000000  26988.000000  26988.000000  26988.000000   \n",
       "mean   ...      4.314177      0.954980      1.338187      0.096228   \n",
       "std    ...     12.921030      3.202485      4.268581      0.541770   \n",
       "min    ...      0.000000      0.000000      0.000000      0.000000   \n",
       "25%    ...      0.000000      0.000000      0.000000      0.000000   \n",
       "50%    ...      1.000000      0.000000      0.000000      0.000000   \n",
       "75%    ...      2.000000      0.000000      1.000000      0.000000   \n",
       "max    ...    176.000000     48.000000     78.000000     16.000000   \n",
       "\n",
       "             change  messages_min  messages_max  messages_mean  \\\n",
       "count  26988.000000  26988.000000  26988.000000   26988.000000   \n",
       "mean       1.007411     51.388024    104.634023      69.444945   \n",
       "std        6.031895     34.555932     89.457205      40.054486   \n",
       "min        0.000000      0.000000      0.000000       0.000000   \n",
       "25%        0.000000     29.000000     47.000000      41.000000   \n",
       "50%        0.000000     46.000000     88.000000      66.333333   \n",
       "75%        0.000000     67.000000    131.000000      91.689744   \n",
       "max      312.000000   1326.000000   1326.000000    1326.000000   \n",
       "\n",
       "       messages_median      conflict  \n",
       "count     26988.000000  26988.000000  \n",
       "mean         68.011653      0.054432  \n",
       "std          39.381905      0.226872  \n",
       "min           0.000000      0.000000  \n",
       "25%          40.000000      0.000000  \n",
       "50%          65.000000      0.000000  \n",
       "75%          90.000000      0.000000  \n",
       "max        1326.000000      1.000000  \n",
       "\n",
       "[8 rows x 33 columns]"
      ]
     },
     "execution_count": 8,
     "metadata": {},
     "output_type": "execute_result"
    }
   ],
   "source": [
    "data_kept.describe()"
   ]
  },
  {
   "cell_type": "markdown",
   "id": "b1128c2c",
   "metadata": {},
   "source": [
    "Fisierele schimbate simultan pe cele 2 branch-uri pot produce conflicte.\n",
    "Astfel, stergem liniile care au nr files=0 pentru ca nu pot sa apara conflicte in acest caz."
   ]
  },
  {
   "cell_type": "code",
   "execution_count": 9,
   "id": "edc33d56",
   "metadata": {},
   "outputs": [],
   "source": [
    "data_kept.drop(data_kept.loc[data_kept['nr files']==0].index, inplace=True)"
   ]
  },
  {
   "cell_type": "markdown",
   "id": "ea7f7a50",
   "metadata": {},
   "source": [
    "Am salvat histograma pentru fiecare coloana care se gaseste in data_kept prin intermediul functiei definite in Setup"
   ]
  },
  {
   "cell_type": "code",
   "execution_count": 10,
   "id": "157ffbd0",
   "metadata": {
    "scrolled": true
   },
   "outputs": [
    {
     "name": "stdout",
     "output_type": "stream",
     "text": [
      "Saving figure attribute_histogram_plots\n"
     ]
    },
    {
     "data": {
      "image/png": "[encoded data removed]",
      "text/plain": [
       "<Figure size 1440x1080 with 36 Axes>"
      ]
     },
     "metadata": {
      "needs_background": "light"
     },
     "output_type": "display_data"
    }
   ],
   "source": [
    "%matplotlib inline\n",
    "data.hist(bins=50, figsize=(20,15))\n",
    "save_fig(\"attribute_histogram_plots\")\n",
    "plt.show()"
   ]
  },
  {
   "cell_type": "markdown",
   "id": "a7e0d6c9",
   "metadata": {},
   "source": [
    "In acest mod s-au redus numarul de linii din data_kept."
   ]
  },
  {
   "cell_type": "markdown",
   "id": "d8077e2b",
   "metadata": {},
   "source": [
    "# Split data"
   ]
  },
  {
   "cell_type": "markdown",
   "id": "d2e2cd2f",
   "metadata": {},
   "source": [
    "Impartim datele din data_kept in 2 seturi: train si set cu o proportie de 80%-20%"
   ]
  },
  {
   "cell_type": "code",
   "execution_count": 11,
   "id": "46b06e29",
   "metadata": {},
   "outputs": [],
   "source": [
    "train_set, test_set = train_test_split(data_kept, test_size=0.2, random_state=42)"
   ]
  },
  {
   "cell_type": "code",
   "execution_count": 12,
   "id": "e3090159",
   "metadata": {},
   "outputs": [
    {
     "name": "stdout",
     "output_type": "stream",
     "text": [
      "4515 train + 1129 test\n"
     ]
    }
   ],
   "source": [
    "print(len(train_set), \"train +\", len(test_set),\"test\")"
   ]
  },
  {
   "cell_type": "code",
   "execution_count": 13,
   "id": "560a3c50",
   "metadata": {
    "scrolled": true
   },
   "outputs": [
    {
     "data": {
      "text/html": [
       "<div>\n",
       "<style scoped>\n",
       "    .dataframe tbody tr th:only-of-type {\n",
       "        vertical-align: middle;\n",
       "    }\n",
       "\n",
       "    .dataframe tbody tr th {\n",
       "        vertical-align: top;\n",
       "    }\n",
       "\n",
       "    .dataframe thead th {\n",
       "        text-align: right;\n",
       "    }\n",
       "</style>\n",
       "<table border=\"1\" class=\"dataframe\">\n",
       "  <thead>\n",
       "    <tr style=\"text-align: right;\">\n",
       "      <th></th>\n",
       "      <th>is pr</th>\n",
       "      <th>added lines</th>\n",
       "      <th>deleted lines</th>\n",
       "      <th>devs parent1</th>\n",
       "      <th>devs parent2</th>\n",
       "      <th>time</th>\n",
       "      <th>nr files</th>\n",
       "      <th>added files</th>\n",
       "      <th>deleted files</th>\n",
       "      <th>renamed files</th>\n",
       "      <th>...</th>\n",
       "      <th>add</th>\n",
       "      <th>remove</th>\n",
       "      <th>use</th>\n",
       "      <th>delete</th>\n",
       "      <th>change</th>\n",
       "      <th>messages_min</th>\n",
       "      <th>messages_max</th>\n",
       "      <th>messages_mean</th>\n",
       "      <th>messages_median</th>\n",
       "      <th>conflict</th>\n",
       "    </tr>\n",
       "  </thead>\n",
       "  <tbody>\n",
       "    <tr>\n",
       "      <th>10399</th>\n",
       "      <td>0</td>\n",
       "      <td>0</td>\n",
       "      <td>0</td>\n",
       "      <td>1</td>\n",
       "      <td>1</td>\n",
       "      <td>0</td>\n",
       "      <td>8</td>\n",
       "      <td>0</td>\n",
       "      <td>0</td>\n",
       "      <td>0</td>\n",
       "      <td>...</td>\n",
       "      <td>0</td>\n",
       "      <td>0</td>\n",
       "      <td>0</td>\n",
       "      <td>0</td>\n",
       "      <td>0</td>\n",
       "      <td>16</td>\n",
       "      <td>16</td>\n",
       "      <td>16.000000</td>\n",
       "      <td>16.0</td>\n",
       "      <td>1</td>\n",
       "    </tr>\n",
       "    <tr>\n",
       "      <th>21045</th>\n",
       "      <td>1</td>\n",
       "      <td>398</td>\n",
       "      <td>179</td>\n",
       "      <td>4</td>\n",
       "      <td>1</td>\n",
       "      <td>5</td>\n",
       "      <td>3</td>\n",
       "      <td>0</td>\n",
       "      <td>0</td>\n",
       "      <td>0</td>\n",
       "      <td>...</td>\n",
       "      <td>6</td>\n",
       "      <td>0</td>\n",
       "      <td>0</td>\n",
       "      <td>0</td>\n",
       "      <td>1</td>\n",
       "      <td>45</td>\n",
       "      <td>213</td>\n",
       "      <td>118.714286</td>\n",
       "      <td>81.5</td>\n",
       "      <td>0</td>\n",
       "    </tr>\n",
       "    <tr>\n",
       "      <th>15879</th>\n",
       "      <td>0</td>\n",
       "      <td>148</td>\n",
       "      <td>28</td>\n",
       "      <td>4</td>\n",
       "      <td>4</td>\n",
       "      <td>939</td>\n",
       "      <td>3</td>\n",
       "      <td>0</td>\n",
       "      <td>0</td>\n",
       "      <td>0</td>\n",
       "      <td>...</td>\n",
       "      <td>7</td>\n",
       "      <td>0</td>\n",
       "      <td>0</td>\n",
       "      <td>0</td>\n",
       "      <td>0</td>\n",
       "      <td>23</td>\n",
       "      <td>194</td>\n",
       "      <td>85.039683</td>\n",
       "      <td>82.0</td>\n",
       "      <td>1</td>\n",
       "    </tr>\n",
       "    <tr>\n",
       "      <th>18963</th>\n",
       "      <td>1</td>\n",
       "      <td>260</td>\n",
       "      <td>51</td>\n",
       "      <td>8</td>\n",
       "      <td>1</td>\n",
       "      <td>95</td>\n",
       "      <td>1</td>\n",
       "      <td>0</td>\n",
       "      <td>0</td>\n",
       "      <td>0</td>\n",
       "      <td>...</td>\n",
       "      <td>1</td>\n",
       "      <td>1</td>\n",
       "      <td>4</td>\n",
       "      <td>0</td>\n",
       "      <td>1</td>\n",
       "      <td>40</td>\n",
       "      <td>156</td>\n",
       "      <td>78.900000</td>\n",
       "      <td>76.0</td>\n",
       "      <td>0</td>\n",
       "    </tr>\n",
       "    <tr>\n",
       "      <th>19659</th>\n",
       "      <td>1</td>\n",
       "      <td>1</td>\n",
       "      <td>0</td>\n",
       "      <td>4</td>\n",
       "      <td>1</td>\n",
       "      <td>600</td>\n",
       "      <td>1</td>\n",
       "      <td>0</td>\n",
       "      <td>0</td>\n",
       "      <td>0</td>\n",
       "      <td>...</td>\n",
       "      <td>2</td>\n",
       "      <td>0</td>\n",
       "      <td>0</td>\n",
       "      <td>0</td>\n",
       "      <td>0</td>\n",
       "      <td>32</td>\n",
       "      <td>86</td>\n",
       "      <td>59.714286</td>\n",
       "      <td>61.0</td>\n",
       "      <td>0</td>\n",
       "    </tr>\n",
       "  </tbody>\n",
       "</table>\n",
       "<p>5 rows × 33 columns</p>\n",
       "</div>"
      ],
      "text/plain": [
       "       is pr  added lines  deleted lines  devs parent1  devs parent2  time  \\\n",
       "10399      0            0              0             1             1     0   \n",
       "21045      1          398            179             4             1     5   \n",
       "15879      0          148             28             4             4   939   \n",
       "18963      1          260             51             8             1    95   \n",
       "19659      1            1              0             4             1   600   \n",
       "\n",
       "       nr files  added files  deleted files  renamed files  ...  add  remove  \\\n",
       "10399         8            0              0              0  ...    0       0   \n",
       "21045         3            0              0              0  ...    6       0   \n",
       "15879         3            0              0              0  ...    7       0   \n",
       "18963         1            0              0              0  ...    1       1   \n",
       "19659         1            0              0              0  ...    2       0   \n",
       "\n",
       "       use  delete  change  messages_min  messages_max  messages_mean  \\\n",
       "10399    0       0       0            16            16      16.000000   \n",
       "21045    0       0       1            45           213     118.714286   \n",
       "15879    0       0       0            23           194      85.039683   \n",
       "18963    4       0       1            40           156      78.900000   \n",
       "19659    0       0       0            32            86      59.714286   \n",
       "\n",
       "       messages_median  conflict  \n",
       "10399             16.0         1  \n",
       "21045             81.5         0  \n",
       "15879             82.0         1  \n",
       "18963             76.0         0  \n",
       "19659             61.0         0  \n",
       "\n",
       "[5 rows x 33 columns]"
      ]
     },
     "execution_count": 13,
     "metadata": {},
     "output_type": "execute_result"
    }
   ],
   "source": [
    "test_set.head()"
   ]
  },
  {
   "cell_type": "code",
   "execution_count": 14,
   "id": "a410b3cc",
   "metadata": {},
   "outputs": [
    {
     "data": {
      "text/plain": [
       "0    0.747287\n",
       "1    0.252713\n",
       "Name: conflict, dtype: float64"
      ]
     },
     "execution_count": 14,
     "metadata": {},
     "output_type": "execute_result"
    }
   ],
   "source": [
    "train_set[\"conflict\"].value_counts() / len(train_set)"
   ]
  },
  {
   "cell_type": "code",
   "execution_count": 15,
   "id": "77409147",
   "metadata": {},
   "outputs": [
    {
     "data": {
      "text/plain": [
       "0    0.736935\n",
       "1    0.263065\n",
       "Name: conflict, dtype: float64"
      ]
     },
     "execution_count": 15,
     "metadata": {},
     "output_type": "execute_result"
    }
   ],
   "source": [
    "test_set[\"conflict\"].value_counts() / len(test_set)"
   ]
  },
  {
   "cell_type": "markdown",
   "id": "9696a0e5",
   "metadata": {},
   "source": [
    "Se poate observa ca proportiile valorilor intre cele doua set-uri sunt aproximativ  similare."
   ]
  },
  {
   "cell_type": "code",
   "execution_count": 16,
   "id": "df32d5a2",
   "metadata": {},
   "outputs": [],
   "source": [
    "data_matrix=train_set.copy()"
   ]
  },
  {
   "cell_type": "markdown",
   "id": "7be53e12",
   "metadata": {},
   "source": [
    "Realizam matricea de corelatie  in care se stocheaza valoarea corelatiei intre fiecare 2 coloane din setul de date train"
   ]
  },
  {
   "cell_type": "code",
   "execution_count": 17,
   "id": "11c369c1",
   "metadata": {},
   "outputs": [
    {
     "data": {
      "text/html": [
       "<div>\n",
       "<style scoped>\n",
       "    .dataframe tbody tr th:only-of-type {\n",
       "        vertical-align: middle;\n",
       "    }\n",
       "\n",
       "    .dataframe tbody tr th {\n",
       "        vertical-align: top;\n",
       "    }\n",
       "\n",
       "    .dataframe thead th {\n",
       "        text-align: right;\n",
       "    }\n",
       "</style>\n",
       "<table border=\"1\" class=\"dataframe\">\n",
       "  <thead>\n",
       "    <tr style=\"text-align: right;\">\n",
       "      <th></th>\n",
       "      <th>is pr</th>\n",
       "      <th>added lines</th>\n",
       "      <th>deleted lines</th>\n",
       "      <th>devs parent1</th>\n",
       "      <th>devs parent2</th>\n",
       "      <th>time</th>\n",
       "      <th>nr files</th>\n",
       "      <th>added files</th>\n",
       "      <th>deleted files</th>\n",
       "      <th>renamed files</th>\n",
       "      <th>...</th>\n",
       "      <th>add</th>\n",
       "      <th>remove</th>\n",
       "      <th>use</th>\n",
       "      <th>delete</th>\n",
       "      <th>change</th>\n",
       "      <th>messages_min</th>\n",
       "      <th>messages_max</th>\n",
       "      <th>messages_mean</th>\n",
       "      <th>messages_median</th>\n",
       "      <th>conflict</th>\n",
       "    </tr>\n",
       "  </thead>\n",
       "  <tbody>\n",
       "    <tr>\n",
       "      <th>is pr</th>\n",
       "      <td>1.000000</td>\n",
       "      <td>-0.103145</td>\n",
       "      <td>-0.038015</td>\n",
       "      <td>0.132838</td>\n",
       "      <td>-0.208404</td>\n",
       "      <td>0.013455</td>\n",
       "      <td>-0.071197</td>\n",
       "      <td>-0.103091</td>\n",
       "      <td>-0.023495</td>\n",
       "      <td>-0.020831</td>\n",
       "      <td>...</td>\n",
       "      <td>-0.024361</td>\n",
       "      <td>-0.022658</td>\n",
       "      <td>-0.016193</td>\n",
       "      <td>0.002365</td>\n",
       "      <td>0.054110</td>\n",
       "      <td>0.171729</td>\n",
       "      <td>0.001246</td>\n",
       "      <td>0.118053</td>\n",
       "      <td>0.139761</td>\n",
       "      <td>-0.559747</td>\n",
       "    </tr>\n",
       "    <tr>\n",
       "      <th>added lines</th>\n",
       "      <td>-0.103145</td>\n",
       "      <td>1.000000</td>\n",
       "      <td>0.223444</td>\n",
       "      <td>-0.050792</td>\n",
       "      <td>0.263861</td>\n",
       "      <td>0.026855</td>\n",
       "      <td>0.030119</td>\n",
       "      <td>0.790351</td>\n",
       "      <td>0.058928</td>\n",
       "      <td>0.036722</td>\n",
       "      <td>...</td>\n",
       "      <td>0.043126</td>\n",
       "      <td>0.047995</td>\n",
       "      <td>0.035929</td>\n",
       "      <td>0.031374</td>\n",
       "      <td>0.018410</td>\n",
       "      <td>-0.066003</td>\n",
       "      <td>0.014728</td>\n",
       "      <td>-0.035583</td>\n",
       "      <td>-0.047574</td>\n",
       "      <td>0.101083</td>\n",
       "    </tr>\n",
       "    <tr>\n",
       "      <th>deleted lines</th>\n",
       "      <td>-0.038015</td>\n",
       "      <td>0.223444</td>\n",
       "      <td>1.000000</td>\n",
       "      <td>-0.018031</td>\n",
       "      <td>0.050984</td>\n",
       "      <td>0.001131</td>\n",
       "      <td>0.013189</td>\n",
       "      <td>0.144969</td>\n",
       "      <td>0.966203</td>\n",
       "      <td>0.006908</td>\n",
       "      <td>...</td>\n",
       "      <td>0.003163</td>\n",
       "      <td>0.024549</td>\n",
       "      <td>0.007559</td>\n",
       "      <td>0.000326</td>\n",
       "      <td>0.035270</td>\n",
       "      <td>-0.033833</td>\n",
       "      <td>0.000611</td>\n",
       "      <td>-0.024022</td>\n",
       "      <td>-0.029483</td>\n",
       "      <td>0.046464</td>\n",
       "    </tr>\n",
       "    <tr>\n",
       "      <th>devs parent1</th>\n",
       "      <td>0.132838</td>\n",
       "      <td>-0.050792</td>\n",
       "      <td>-0.018031</td>\n",
       "      <td>1.000000</td>\n",
       "      <td>-0.070409</td>\n",
       "      <td>0.380477</td>\n",
       "      <td>0.051310</td>\n",
       "      <td>-0.051953</td>\n",
       "      <td>-0.011337</td>\n",
       "      <td>-0.010137</td>\n",
       "      <td>...</td>\n",
       "      <td>0.743045</td>\n",
       "      <td>0.667075</td>\n",
       "      <td>0.577863</td>\n",
       "      <td>0.223969</td>\n",
       "      <td>0.269873</td>\n",
       "      <td>-0.006864</td>\n",
       "      <td>0.311672</td>\n",
       "      <td>0.107722</td>\n",
       "      <td>0.108224</td>\n",
       "      <td>-0.071319</td>\n",
       "    </tr>\n",
       "    <tr>\n",
       "      <th>devs parent2</th>\n",
       "      <td>-0.208404</td>\n",
       "      <td>0.263861</td>\n",
       "      <td>0.050984</td>\n",
       "      <td>-0.070409</td>\n",
       "      <td>1.000000</td>\n",
       "      <td>0.389427</td>\n",
       "      <td>0.078097</td>\n",
       "      <td>0.251975</td>\n",
       "      <td>0.021628</td>\n",
       "      <td>0.009186</td>\n",
       "      <td>...</td>\n",
       "      <td>0.379649</td>\n",
       "      <td>0.411566</td>\n",
       "      <td>0.126649</td>\n",
       "      <td>0.093570</td>\n",
       "      <td>0.126600</td>\n",
       "      <td>-0.118178</td>\n",
       "      <td>0.033238</td>\n",
       "      <td>-0.062620</td>\n",
       "      <td>-0.070024</td>\n",
       "      <td>0.258209</td>\n",
       "    </tr>\n",
       "    <tr>\n",
       "      <th>time</th>\n",
       "      <td>0.013455</td>\n",
       "      <td>0.026855</td>\n",
       "      <td>0.001131</td>\n",
       "      <td>0.380477</td>\n",
       "      <td>0.389427</td>\n",
       "      <td>1.000000</td>\n",
       "      <td>-0.010843</td>\n",
       "      <td>0.053174</td>\n",
       "      <td>0.002237</td>\n",
       "      <td>0.014242</td>\n",
       "      <td>...</td>\n",
       "      <td>0.469017</td>\n",
       "      <td>0.568408</td>\n",
       "      <td>0.165769</td>\n",
       "      <td>0.170439</td>\n",
       "      <td>0.088481</td>\n",
       "      <td>-0.083903</td>\n",
       "      <td>0.045640</td>\n",
       "      <td>-0.044480</td>\n",
       "      <td>-0.042206</td>\n",
       "      <td>0.062409</td>\n",
       "    </tr>\n",
       "    <tr>\n",
       "      <th>nr files</th>\n",
       "      <td>-0.071197</td>\n",
       "      <td>0.030119</td>\n",
       "      <td>0.013189</td>\n",
       "      <td>0.051310</td>\n",
       "      <td>0.078097</td>\n",
       "      <td>-0.010843</td>\n",
       "      <td>1.000000</td>\n",
       "      <td>0.030901</td>\n",
       "      <td>0.009604</td>\n",
       "      <td>-0.000038</td>\n",
       "      <td>...</td>\n",
       "      <td>0.047186</td>\n",
       "      <td>0.091690</td>\n",
       "      <td>0.093077</td>\n",
       "      <td>0.001047</td>\n",
       "      <td>0.250357</td>\n",
       "      <td>-0.071789</td>\n",
       "      <td>0.075794</td>\n",
       "      <td>-0.016358</td>\n",
       "      <td>-0.041922</td>\n",
       "      <td>0.117668</td>\n",
       "    </tr>\n",
       "    <tr>\n",
       "      <th>added files</th>\n",
       "      <td>-0.103091</td>\n",
       "      <td>0.790351</td>\n",
       "      <td>0.144969</td>\n",
       "      <td>-0.051953</td>\n",
       "      <td>0.251975</td>\n",
       "      <td>0.053174</td>\n",
       "      <td>0.030901</td>\n",
       "      <td>1.000000</td>\n",
       "      <td>0.056402</td>\n",
       "      <td>0.057491</td>\n",
       "      <td>...</td>\n",
       "      <td>0.049543</td>\n",
       "      <td>0.048737</td>\n",
       "      <td>0.035445</td>\n",
       "      <td>0.049518</td>\n",
       "      <td>0.021885</td>\n",
       "      <td>-0.059125</td>\n",
       "      <td>0.018280</td>\n",
       "      <td>-0.029436</td>\n",
       "      <td>-0.036543</td>\n",
       "      <td>0.097728</td>\n",
       "    </tr>\n",
       "    <tr>\n",
       "      <th>deleted files</th>\n",
       "      <td>-0.023495</td>\n",
       "      <td>0.058928</td>\n",
       "      <td>0.966203</td>\n",
       "      <td>-0.011337</td>\n",
       "      <td>0.021628</td>\n",
       "      <td>0.002237</td>\n",
       "      <td>0.009604</td>\n",
       "      <td>0.056402</td>\n",
       "      <td>1.000000</td>\n",
       "      <td>0.005029</td>\n",
       "      <td>...</td>\n",
       "      <td>-0.001338</td>\n",
       "      <td>0.009059</td>\n",
       "      <td>0.001857</td>\n",
       "      <td>-0.000698</td>\n",
       "      <td>0.014123</td>\n",
       "      <td>-0.020899</td>\n",
       "      <td>-0.003330</td>\n",
       "      <td>-0.016124</td>\n",
       "      <td>-0.017897</td>\n",
       "      <td>0.034326</td>\n",
       "    </tr>\n",
       "    <tr>\n",
       "      <th>renamed files</th>\n",
       "      <td>-0.020831</td>\n",
       "      <td>0.036722</td>\n",
       "      <td>0.006908</td>\n",
       "      <td>-0.010137</td>\n",
       "      <td>0.009186</td>\n",
       "      <td>0.014242</td>\n",
       "      <td>-0.000038</td>\n",
       "      <td>0.057491</td>\n",
       "      <td>0.005029</td>\n",
       "      <td>1.000000</td>\n",
       "      <td>...</td>\n",
       "      <td>-0.007678</td>\n",
       "      <td>-0.006026</td>\n",
       "      <td>-0.006240</td>\n",
       "      <td>-0.002952</td>\n",
       "      <td>-0.002896</td>\n",
       "      <td>-0.015707</td>\n",
       "      <td>-0.014012</td>\n",
       "      <td>-0.024569</td>\n",
       "      <td>-0.024502</td>\n",
       "      <td>0.030821</td>\n",
       "    </tr>\n",
       "    <tr>\n",
       "      <th>copied files</th>\n",
       "      <td>NaN</td>\n",
       "      <td>NaN</td>\n",
       "      <td>NaN</td>\n",
       "      <td>NaN</td>\n",
       "      <td>NaN</td>\n",
       "      <td>NaN</td>\n",
       "      <td>NaN</td>\n",
       "      <td>NaN</td>\n",
       "      <td>NaN</td>\n",
       "      <td>NaN</td>\n",
       "      <td>...</td>\n",
       "      <td>NaN</td>\n",
       "      <td>NaN</td>\n",
       "      <td>NaN</td>\n",
       "      <td>NaN</td>\n",
       "      <td>NaN</td>\n",
       "      <td>NaN</td>\n",
       "      <td>NaN</td>\n",
       "      <td>NaN</td>\n",
       "      <td>NaN</td>\n",
       "      <td>NaN</td>\n",
       "    </tr>\n",
       "    <tr>\n",
       "      <th>modified files</th>\n",
       "      <td>-0.103614</td>\n",
       "      <td>0.601938</td>\n",
       "      <td>0.127425</td>\n",
       "      <td>-0.054759</td>\n",
       "      <td>0.217392</td>\n",
       "      <td>0.029682</td>\n",
       "      <td>0.029423</td>\n",
       "      <td>0.545260</td>\n",
       "      <td>0.036761</td>\n",
       "      <td>0.034738</td>\n",
       "      <td>...</td>\n",
       "      <td>0.035711</td>\n",
       "      <td>0.030241</td>\n",
       "      <td>0.035040</td>\n",
       "      <td>0.065340</td>\n",
       "      <td>0.008047</td>\n",
       "      <td>-0.045902</td>\n",
       "      <td>0.015324</td>\n",
       "      <td>-0.015427</td>\n",
       "      <td>-0.020350</td>\n",
       "      <td>0.080918</td>\n",
       "    </tr>\n",
       "    <tr>\n",
       "      <th>nr commits1</th>\n",
       "      <td>0.058026</td>\n",
       "      <td>-0.041194</td>\n",
       "      <td>-0.014273</td>\n",
       "      <td>0.839720</td>\n",
       "      <td>-0.060248</td>\n",
       "      <td>0.258783</td>\n",
       "      <td>0.094320</td>\n",
       "      <td>-0.044479</td>\n",
       "      <td>-0.009647</td>\n",
       "      <td>-0.010945</td>\n",
       "      <td>...</td>\n",
       "      <td>0.679431</td>\n",
       "      <td>0.670374</td>\n",
       "      <td>0.788068</td>\n",
       "      <td>0.322417</td>\n",
       "      <td>0.398036</td>\n",
       "      <td>-0.023389</td>\n",
       "      <td>0.450708</td>\n",
       "      <td>0.151506</td>\n",
       "      <td>0.137544</td>\n",
       "      <td>-0.012654</td>\n",
       "    </tr>\n",
       "    <tr>\n",
       "      <th>nr commits2</th>\n",
       "      <td>-0.233062</td>\n",
       "      <td>0.264027</td>\n",
       "      <td>0.070001</td>\n",
       "      <td>-0.090496</td>\n",
       "      <td>0.834540</td>\n",
       "      <td>0.329583</td>\n",
       "      <td>0.103364</td>\n",
       "      <td>0.287469</td>\n",
       "      <td>0.035010</td>\n",
       "      <td>0.016250</td>\n",
       "      <td>...</td>\n",
       "      <td>0.402750</td>\n",
       "      <td>0.399155</td>\n",
       "      <td>0.178038</td>\n",
       "      <td>0.145930</td>\n",
       "      <td>0.169239</td>\n",
       "      <td>-0.117878</td>\n",
       "      <td>0.117825</td>\n",
       "      <td>-0.009038</td>\n",
       "      <td>-0.025027</td>\n",
       "      <td>0.314438</td>\n",
       "    </tr>\n",
       "    <tr>\n",
       "      <th>density1</th>\n",
       "      <td>0.120785</td>\n",
       "      <td>-0.043419</td>\n",
       "      <td>-0.012990</td>\n",
       "      <td>0.472439</td>\n",
       "      <td>-0.065521</td>\n",
       "      <td>-0.051569</td>\n",
       "      <td>0.032087</td>\n",
       "      <td>-0.043798</td>\n",
       "      <td>-0.009046</td>\n",
       "      <td>-0.009881</td>\n",
       "      <td>...</td>\n",
       "      <td>0.401050</td>\n",
       "      <td>0.277652</td>\n",
       "      <td>0.562638</td>\n",
       "      <td>0.180605</td>\n",
       "      <td>0.210456</td>\n",
       "      <td>0.103288</td>\n",
       "      <td>0.407627</td>\n",
       "      <td>0.252704</td>\n",
       "      <td>0.241658</td>\n",
       "      <td>-0.110267</td>\n",
       "    </tr>\n",
       "    <tr>\n",
       "      <th>density2</th>\n",
       "      <td>-0.205022</td>\n",
       "      <td>0.221772</td>\n",
       "      <td>0.061584</td>\n",
       "      <td>-0.067557</td>\n",
       "      <td>0.333190</td>\n",
       "      <td>-0.022499</td>\n",
       "      <td>0.123890</td>\n",
       "      <td>0.212490</td>\n",
       "      <td>0.028666</td>\n",
       "      <td>0.007031</td>\n",
       "      <td>...</td>\n",
       "      <td>0.165041</td>\n",
       "      <td>0.144974</td>\n",
       "      <td>0.117054</td>\n",
       "      <td>0.112038</td>\n",
       "      <td>0.103506</td>\n",
       "      <td>-0.109196</td>\n",
       "      <td>0.132950</td>\n",
       "      <td>0.028715</td>\n",
       "      <td>0.006284</td>\n",
       "      <td>0.241647</td>\n",
       "    </tr>\n",
       "    <tr>\n",
       "      <th>fix</th>\n",
       "      <td>-0.017432</td>\n",
       "      <td>0.095887</td>\n",
       "      <td>0.014126</td>\n",
       "      <td>0.591789</td>\n",
       "      <td>0.197707</td>\n",
       "      <td>0.235985</td>\n",
       "      <td>0.087219</td>\n",
       "      <td>0.094340</td>\n",
       "      <td>0.004443</td>\n",
       "      <td>-0.006084</td>\n",
       "      <td>...</td>\n",
       "      <td>0.604842</td>\n",
       "      <td>0.622805</td>\n",
       "      <td>0.811968</td>\n",
       "      <td>0.340576</td>\n",
       "      <td>0.333817</td>\n",
       "      <td>0.009773</td>\n",
       "      <td>0.543249</td>\n",
       "      <td>0.245512</td>\n",
       "      <td>0.221003</td>\n",
       "      <td>0.058862</td>\n",
       "    </tr>\n",
       "    <tr>\n",
       "      <th>bug</th>\n",
       "      <td>-0.005404</td>\n",
       "      <td>0.099075</td>\n",
       "      <td>0.012420</td>\n",
       "      <td>0.295505</td>\n",
       "      <td>0.087895</td>\n",
       "      <td>0.139840</td>\n",
       "      <td>0.083139</td>\n",
       "      <td>0.132260</td>\n",
       "      <td>0.001295</td>\n",
       "      <td>-0.002151</td>\n",
       "      <td>...</td>\n",
       "      <td>0.303478</td>\n",
       "      <td>0.285073</td>\n",
       "      <td>0.502476</td>\n",
       "      <td>0.197348</td>\n",
       "      <td>0.272807</td>\n",
       "      <td>0.027065</td>\n",
       "      <td>0.451992</td>\n",
       "      <td>0.204332</td>\n",
       "      <td>0.177748</td>\n",
       "      <td>0.045055</td>\n",
       "    </tr>\n",
       "    <tr>\n",
       "      <th>feature</th>\n",
       "      <td>0.001563</td>\n",
       "      <td>0.042662</td>\n",
       "      <td>0.103321</td>\n",
       "      <td>0.437031</td>\n",
       "      <td>0.183614</td>\n",
       "      <td>0.216315</td>\n",
       "      <td>0.035376</td>\n",
       "      <td>0.035913</td>\n",
       "      <td>0.043956</td>\n",
       "      <td>-0.002835</td>\n",
       "      <td>...</td>\n",
       "      <td>0.475700</td>\n",
       "      <td>0.439438</td>\n",
       "      <td>0.347613</td>\n",
       "      <td>0.162784</td>\n",
       "      <td>0.316014</td>\n",
       "      <td>-0.043545</td>\n",
       "      <td>0.264312</td>\n",
       "      <td>0.061646</td>\n",
       "      <td>0.044417</td>\n",
       "      <td>0.068683</td>\n",
       "    </tr>\n",
       "    <tr>\n",
       "      <th>improve</th>\n",
       "      <td>-0.044173</td>\n",
       "      <td>0.104823</td>\n",
       "      <td>0.013216</td>\n",
       "      <td>0.125727</td>\n",
       "      <td>0.040842</td>\n",
       "      <td>0.056127</td>\n",
       "      <td>0.065017</td>\n",
       "      <td>0.148739</td>\n",
       "      <td>0.001670</td>\n",
       "      <td>-0.001710</td>\n",
       "      <td>...</td>\n",
       "      <td>0.203995</td>\n",
       "      <td>0.203646</td>\n",
       "      <td>0.315478</td>\n",
       "      <td>0.118878</td>\n",
       "      <td>0.070506</td>\n",
       "      <td>-0.017644</td>\n",
       "      <td>0.146559</td>\n",
       "      <td>0.067728</td>\n",
       "      <td>0.060081</td>\n",
       "      <td>0.028878</td>\n",
       "    </tr>\n",
       "    <tr>\n",
       "      <th>document</th>\n",
       "      <td>0.005376</td>\n",
       "      <td>0.043222</td>\n",
       "      <td>0.001804</td>\n",
       "      <td>0.488409</td>\n",
       "      <td>0.146713</td>\n",
       "      <td>0.157204</td>\n",
       "      <td>0.027373</td>\n",
       "      <td>0.028530</td>\n",
       "      <td>0.000848</td>\n",
       "      <td>-0.003687</td>\n",
       "      <td>...</td>\n",
       "      <td>0.412528</td>\n",
       "      <td>0.426732</td>\n",
       "      <td>0.701645</td>\n",
       "      <td>0.264246</td>\n",
       "      <td>0.262296</td>\n",
       "      <td>0.064035</td>\n",
       "      <td>0.438022</td>\n",
       "      <td>0.232102</td>\n",
       "      <td>0.216194</td>\n",
       "      <td>0.028081</td>\n",
       "    </tr>\n",
       "    <tr>\n",
       "      <th>refactor</th>\n",
       "      <td>-0.083847</td>\n",
       "      <td>0.188384</td>\n",
       "      <td>0.048835</td>\n",
       "      <td>0.210971</td>\n",
       "      <td>0.132538</td>\n",
       "      <td>0.096363</td>\n",
       "      <td>0.121647</td>\n",
       "      <td>0.172728</td>\n",
       "      <td>0.016312</td>\n",
       "      <td>-0.000255</td>\n",
       "      <td>...</td>\n",
       "      <td>0.266062</td>\n",
       "      <td>0.307793</td>\n",
       "      <td>0.432995</td>\n",
       "      <td>0.250166</td>\n",
       "      <td>0.198582</td>\n",
       "      <td>-0.046387</td>\n",
       "      <td>0.284604</td>\n",
       "      <td>0.083483</td>\n",
       "      <td>0.065246</td>\n",
       "      <td>0.124070</td>\n",
       "    </tr>\n",
       "    <tr>\n",
       "      <th>update</th>\n",
       "      <td>0.019295</td>\n",
       "      <td>0.047981</td>\n",
       "      <td>0.004232</td>\n",
       "      <td>0.627906</td>\n",
       "      <td>0.336291</td>\n",
       "      <td>0.508595</td>\n",
       "      <td>0.061152</td>\n",
       "      <td>0.069108</td>\n",
       "      <td>0.000580</td>\n",
       "      <td>-0.006140</td>\n",
       "      <td>...</td>\n",
       "      <td>0.681109</td>\n",
       "      <td>0.668551</td>\n",
       "      <td>0.465944</td>\n",
       "      <td>0.275948</td>\n",
       "      <td>0.250374</td>\n",
       "      <td>-0.085179</td>\n",
       "      <td>0.257397</td>\n",
       "      <td>0.034163</td>\n",
       "      <td>0.023678</td>\n",
       "      <td>0.075747</td>\n",
       "    </tr>\n",
       "    <tr>\n",
       "      <th>add</th>\n",
       "      <td>-0.024361</td>\n",
       "      <td>0.043126</td>\n",
       "      <td>0.003163</td>\n",
       "      <td>0.743045</td>\n",
       "      <td>0.379649</td>\n",
       "      <td>0.469017</td>\n",
       "      <td>0.047186</td>\n",
       "      <td>0.049543</td>\n",
       "      <td>-0.001338</td>\n",
       "      <td>-0.007678</td>\n",
       "      <td>...</td>\n",
       "      <td>1.000000</td>\n",
       "      <td>0.782614</td>\n",
       "      <td>0.543363</td>\n",
       "      <td>0.250183</td>\n",
       "      <td>0.277775</td>\n",
       "      <td>-0.067921</td>\n",
       "      <td>0.308234</td>\n",
       "      <td>0.075090</td>\n",
       "      <td>0.064564</td>\n",
       "      <td>0.111861</td>\n",
       "    </tr>\n",
       "    <tr>\n",
       "      <th>remove</th>\n",
       "      <td>-0.022658</td>\n",
       "      <td>0.047995</td>\n",
       "      <td>0.024549</td>\n",
       "      <td>0.667075</td>\n",
       "      <td>0.411566</td>\n",
       "      <td>0.568408</td>\n",
       "      <td>0.091690</td>\n",
       "      <td>0.048737</td>\n",
       "      <td>0.009059</td>\n",
       "      <td>-0.006026</td>\n",
       "      <td>...</td>\n",
       "      <td>0.782614</td>\n",
       "      <td>1.000000</td>\n",
       "      <td>0.593765</td>\n",
       "      <td>0.264363</td>\n",
       "      <td>0.336491</td>\n",
       "      <td>-0.073102</td>\n",
       "      <td>0.312657</td>\n",
       "      <td>0.071619</td>\n",
       "      <td>0.053535</td>\n",
       "      <td>0.093320</td>\n",
       "    </tr>\n",
       "    <tr>\n",
       "      <th>use</th>\n",
       "      <td>-0.016193</td>\n",
       "      <td>0.035929</td>\n",
       "      <td>0.007559</td>\n",
       "      <td>0.577863</td>\n",
       "      <td>0.126649</td>\n",
       "      <td>0.165769</td>\n",
       "      <td>0.093077</td>\n",
       "      <td>0.035445</td>\n",
       "      <td>0.001857</td>\n",
       "      <td>-0.006240</td>\n",
       "      <td>...</td>\n",
       "      <td>0.543363</td>\n",
       "      <td>0.593765</td>\n",
       "      <td>1.000000</td>\n",
       "      <td>0.353192</td>\n",
       "      <td>0.343325</td>\n",
       "      <td>0.048508</td>\n",
       "      <td>0.553696</td>\n",
       "      <td>0.262149</td>\n",
       "      <td>0.240827</td>\n",
       "      <td>0.038679</td>\n",
       "    </tr>\n",
       "    <tr>\n",
       "      <th>delete</th>\n",
       "      <td>0.002365</td>\n",
       "      <td>0.031374</td>\n",
       "      <td>0.000326</td>\n",
       "      <td>0.223969</td>\n",
       "      <td>0.093570</td>\n",
       "      <td>0.170439</td>\n",
       "      <td>0.001047</td>\n",
       "      <td>0.049518</td>\n",
       "      <td>-0.000698</td>\n",
       "      <td>-0.002952</td>\n",
       "      <td>...</td>\n",
       "      <td>0.250183</td>\n",
       "      <td>0.264363</td>\n",
       "      <td>0.353192</td>\n",
       "      <td>1.000000</td>\n",
       "      <td>0.090862</td>\n",
       "      <td>-0.033333</td>\n",
       "      <td>0.233031</td>\n",
       "      <td>0.052948</td>\n",
       "      <td>0.041495</td>\n",
       "      <td>0.024605</td>\n",
       "    </tr>\n",
       "    <tr>\n",
       "      <th>change</th>\n",
       "      <td>0.054110</td>\n",
       "      <td>0.018410</td>\n",
       "      <td>0.035270</td>\n",
       "      <td>0.269873</td>\n",
       "      <td>0.126600</td>\n",
       "      <td>0.088481</td>\n",
       "      <td>0.250357</td>\n",
       "      <td>0.021885</td>\n",
       "      <td>0.014123</td>\n",
       "      <td>-0.002896</td>\n",
       "      <td>...</td>\n",
       "      <td>0.277775</td>\n",
       "      <td>0.336491</td>\n",
       "      <td>0.343325</td>\n",
       "      <td>0.090862</td>\n",
       "      <td>1.000000</td>\n",
       "      <td>-0.034217</td>\n",
       "      <td>0.316959</td>\n",
       "      <td>0.083160</td>\n",
       "      <td>0.032874</td>\n",
       "      <td>0.082413</td>\n",
       "    </tr>\n",
       "    <tr>\n",
       "      <th>messages_min</th>\n",
       "      <td>0.171729</td>\n",
       "      <td>-0.066003</td>\n",
       "      <td>-0.033833</td>\n",
       "      <td>-0.006864</td>\n",
       "      <td>-0.118178</td>\n",
       "      <td>-0.083903</td>\n",
       "      <td>-0.071789</td>\n",
       "      <td>-0.059125</td>\n",
       "      <td>-0.020899</td>\n",
       "      <td>-0.015707</td>\n",
       "      <td>...</td>\n",
       "      <td>-0.067921</td>\n",
       "      <td>-0.073102</td>\n",
       "      <td>0.048508</td>\n",
       "      <td>-0.033333</td>\n",
       "      <td>-0.034217</td>\n",
       "      <td>1.000000</td>\n",
       "      <td>0.255958</td>\n",
       "      <td>0.819450</td>\n",
       "      <td>0.844944</td>\n",
       "      <td>-0.162519</td>\n",
       "    </tr>\n",
       "    <tr>\n",
       "      <th>messages_max</th>\n",
       "      <td>0.001246</td>\n",
       "      <td>0.014728</td>\n",
       "      <td>0.000611</td>\n",
       "      <td>0.311672</td>\n",
       "      <td>0.033238</td>\n",
       "      <td>0.045640</td>\n",
       "      <td>0.075794</td>\n",
       "      <td>0.018280</td>\n",
       "      <td>-0.003330</td>\n",
       "      <td>-0.014012</td>\n",
       "      <td>...</td>\n",
       "      <td>0.308234</td>\n",
       "      <td>0.312657</td>\n",
       "      <td>0.553696</td>\n",
       "      <td>0.233031</td>\n",
       "      <td>0.316959</td>\n",
       "      <td>0.255958</td>\n",
       "      <td>1.000000</td>\n",
       "      <td>0.632790</td>\n",
       "      <td>0.545316</td>\n",
       "      <td>0.060914</td>\n",
       "    </tr>\n",
       "    <tr>\n",
       "      <th>messages_mean</th>\n",
       "      <td>0.118053</td>\n",
       "      <td>-0.035583</td>\n",
       "      <td>-0.024022</td>\n",
       "      <td>0.107722</td>\n",
       "      <td>-0.062620</td>\n",
       "      <td>-0.044480</td>\n",
       "      <td>-0.016358</td>\n",
       "      <td>-0.029436</td>\n",
       "      <td>-0.016124</td>\n",
       "      <td>-0.024569</td>\n",
       "      <td>...</td>\n",
       "      <td>0.075090</td>\n",
       "      <td>0.071619</td>\n",
       "      <td>0.262149</td>\n",
       "      <td>0.052948</td>\n",
       "      <td>0.083160</td>\n",
       "      <td>0.819450</td>\n",
       "      <td>0.632790</td>\n",
       "      <td>1.000000</td>\n",
       "      <td>0.980178</td>\n",
       "      <td>-0.073252</td>\n",
       "    </tr>\n",
       "    <tr>\n",
       "      <th>messages_median</th>\n",
       "      <td>0.139761</td>\n",
       "      <td>-0.047574</td>\n",
       "      <td>-0.029483</td>\n",
       "      <td>0.108224</td>\n",
       "      <td>-0.070024</td>\n",
       "      <td>-0.042206</td>\n",
       "      <td>-0.041922</td>\n",
       "      <td>-0.036543</td>\n",
       "      <td>-0.017897</td>\n",
       "      <td>-0.024502</td>\n",
       "      <td>...</td>\n",
       "      <td>0.064564</td>\n",
       "      <td>0.053535</td>\n",
       "      <td>0.240827</td>\n",
       "      <td>0.041495</td>\n",
       "      <td>0.032874</td>\n",
       "      <td>0.844944</td>\n",
       "      <td>0.545316</td>\n",
       "      <td>0.980178</td>\n",
       "      <td>1.000000</td>\n",
       "      <td>-0.099032</td>\n",
       "    </tr>\n",
       "    <tr>\n",
       "      <th>conflict</th>\n",
       "      <td>-0.559747</td>\n",
       "      <td>0.101083</td>\n",
       "      <td>0.046464</td>\n",
       "      <td>-0.071319</td>\n",
       "      <td>0.258209</td>\n",
       "      <td>0.062409</td>\n",
       "      <td>0.117668</td>\n",
       "      <td>0.097728</td>\n",
       "      <td>0.034326</td>\n",
       "      <td>0.030821</td>\n",
       "      <td>...</td>\n",
       "      <td>0.111861</td>\n",
       "      <td>0.093320</td>\n",
       "      <td>0.038679</td>\n",
       "      <td>0.024605</td>\n",
       "      <td>0.082413</td>\n",
       "      <td>-0.162519</td>\n",
       "      <td>0.060914</td>\n",
       "      <td>-0.073252</td>\n",
       "      <td>-0.099032</td>\n",
       "      <td>1.000000</td>\n",
       "    </tr>\n",
       "  </tbody>\n",
       "</table>\n",
       "<p>33 rows × 33 columns</p>\n",
       "</div>"
      ],
      "text/plain": [
       "                    is pr  added lines  deleted lines  devs parent1  \\\n",
       "is pr            1.000000    -0.103145      -0.038015      0.132838   \n",
       "added lines     -0.103145     1.000000       0.223444     -0.050792   \n",
       "deleted lines   -0.038015     0.223444       1.000000     -0.018031   \n",
       "devs parent1     0.132838    -0.050792      -0.018031      1.000000   \n",
       "devs parent2    -0.208404     0.263861       0.050984     -0.070409   \n",
       "time             0.013455     0.026855       0.001131      0.380477   \n",
       "nr files        -0.071197     0.030119       0.013189      0.051310   \n",
       "added files     -0.103091     0.790351       0.144969     -0.051953   \n",
       "deleted files   -0.023495     0.058928       0.966203     -0.011337   \n",
       "renamed files   -0.020831     0.036722       0.006908     -0.010137   \n",
       "copied files          NaN          NaN            NaN           NaN   \n",
       "modified files  -0.103614     0.601938       0.127425     -0.054759   \n",
       "nr commits1      0.058026    -0.041194      -0.014273      0.839720   \n",
       "nr commits2     -0.233062     0.264027       0.070001     -0.090496   \n",
       "density1         0.120785    -0.043419      -0.012990      0.472439   \n",
       "density2        -0.205022     0.221772       0.061584     -0.067557   \n",
       "fix             -0.017432     0.095887       0.014126      0.591789   \n",
       "bug             -0.005404     0.099075       0.012420      0.295505   \n",
       "feature          0.001563     0.042662       0.103321      0.437031   \n",
       "improve         -0.044173     0.104823       0.013216      0.125727   \n",
       "document         0.005376     0.043222       0.001804      0.488409   \n",
       "refactor        -0.083847     0.188384       0.048835      0.210971   \n",
       "update           0.019295     0.047981       0.004232      0.627906   \n",
       "add             -0.024361     0.043126       0.003163      0.743045   \n",
       "remove          -0.022658     0.047995       0.024549      0.667075   \n",
       "use             -0.016193     0.035929       0.007559      0.577863   \n",
       "delete           0.002365     0.031374       0.000326      0.223969   \n",
       "change           0.054110     0.018410       0.035270      0.269873   \n",
       "messages_min     0.171729    -0.066003      -0.033833     -0.006864   \n",
       "messages_max     0.001246     0.014728       0.000611      0.311672   \n",
       "messages_mean    0.118053    -0.035583      -0.024022      0.107722   \n",
       "messages_median  0.139761    -0.047574      -0.029483      0.108224   \n",
       "conflict        -0.559747     0.101083       0.046464     -0.071319   \n",
       "\n",
       "                 devs parent2      time  nr files  added files  deleted files  \\\n",
       "is pr               -0.208404  0.013455 -0.071197    -0.103091      -0.023495   \n",
       "added lines          0.263861  0.026855  0.030119     0.790351       0.058928   \n",
       "deleted lines        0.050984  0.001131  0.013189     0.144969       0.966203   \n",
       "devs parent1        -0.070409  0.380477  0.051310    -0.051953      -0.011337   \n",
       "devs parent2         1.000000  0.389427  0.078097     0.251975       0.021628   \n",
       "time                 0.389427  1.000000 -0.010843     0.053174       0.002237   \n",
       "nr files             0.078097 -0.010843  1.000000     0.030901       0.009604   \n",
       "added files          0.251975  0.053174  0.030901     1.000000       0.056402   \n",
       "deleted files        0.021628  0.002237  0.009604     0.056402       1.000000   \n",
       "renamed files        0.009186  0.014242 -0.000038     0.057491       0.005029   \n",
       "copied files              NaN       NaN       NaN          NaN            NaN   \n",
       "modified files       0.217392  0.029682  0.029423     0.545260       0.036761   \n",
       "nr commits1         -0.060248  0.258783  0.094320    -0.044479      -0.009647   \n",
       "nr commits2          0.834540  0.329583  0.103364     0.287469       0.035010   \n",
       "density1            -0.065521 -0.051569  0.032087    -0.043798      -0.009046   \n",
       "density2             0.333190 -0.022499  0.123890     0.212490       0.028666   \n",
       "fix                  0.197707  0.235985  0.087219     0.094340       0.004443   \n",
       "bug                  0.087895  0.139840  0.083139     0.132260       0.001295   \n",
       "feature              0.183614  0.216315  0.035376     0.035913       0.043956   \n",
       "improve              0.040842  0.056127  0.065017     0.148739       0.001670   \n",
       "document             0.146713  0.157204  0.027373     0.028530       0.000848   \n",
       "refactor             0.132538  0.096363  0.121647     0.172728       0.016312   \n",
       "update               0.336291  0.508595  0.061152     0.069108       0.000580   \n",
       "add                  0.379649  0.469017  0.047186     0.049543      -0.001338   \n",
       "remove               0.411566  0.568408  0.091690     0.048737       0.009059   \n",
       "use                  0.126649  0.165769  0.093077     0.035445       0.001857   \n",
       "delete               0.093570  0.170439  0.001047     0.049518      -0.000698   \n",
       "change               0.126600  0.088481  0.250357     0.021885       0.014123   \n",
       "messages_min        -0.118178 -0.083903 -0.071789    -0.059125      -0.020899   \n",
       "messages_max         0.033238  0.045640  0.075794     0.018280      -0.003330   \n",
       "messages_mean       -0.062620 -0.044480 -0.016358    -0.029436      -0.016124   \n",
       "messages_median     -0.070024 -0.042206 -0.041922    -0.036543      -0.017897   \n",
       "conflict             0.258209  0.062409  0.117668     0.097728       0.034326   \n",
       "\n",
       "                 renamed files  ...       add    remove       use    delete  \\\n",
       "is pr                -0.020831  ... -0.024361 -0.022658 -0.016193  0.002365   \n",
       "added lines           0.036722  ...  0.043126  0.047995  0.035929  0.031374   \n",
       "deleted lines         0.006908  ...  0.003163  0.024549  0.007559  0.000326   \n",
       "devs parent1         -0.010137  ...  0.743045  0.667075  0.577863  0.223969   \n",
       "devs parent2          0.009186  ...  0.379649  0.411566  0.126649  0.093570   \n",
       "time                  0.014242  ...  0.469017  0.568408  0.165769  0.170439   \n",
       "nr files             -0.000038  ...  0.047186  0.091690  0.093077  0.001047   \n",
       "added files           0.057491  ...  0.049543  0.048737  0.035445  0.049518   \n",
       "deleted files         0.005029  ... -0.001338  0.009059  0.001857 -0.000698   \n",
       "renamed files         1.000000  ... -0.007678 -0.006026 -0.006240 -0.002952   \n",
       "copied files               NaN  ...       NaN       NaN       NaN       NaN   \n",
       "modified files        0.034738  ...  0.035711  0.030241  0.035040  0.065340   \n",
       "nr commits1          -0.010945  ...  0.679431  0.670374  0.788068  0.322417   \n",
       "nr commits2           0.016250  ...  0.402750  0.399155  0.178038  0.145930   \n",
       "density1             -0.009881  ...  0.401050  0.277652  0.562638  0.180605   \n",
       "density2              0.007031  ...  0.165041  0.144974  0.117054  0.112038   \n",
       "fix                  -0.006084  ...  0.604842  0.622805  0.811968  0.340576   \n",
       "bug                  -0.002151  ...  0.303478  0.285073  0.502476  0.197348   \n",
       "feature              -0.002835  ...  0.475700  0.439438  0.347613  0.162784   \n",
       "improve              -0.001710  ...  0.203995  0.203646  0.315478  0.118878   \n",
       "document             -0.003687  ...  0.412528  0.426732  0.701645  0.264246   \n",
       "refactor             -0.000255  ...  0.266062  0.307793  0.432995  0.250166   \n",
       "update               -0.006140  ...  0.681109  0.668551  0.465944  0.275948   \n",
       "add                  -0.007678  ...  1.000000  0.782614  0.543363  0.250183   \n",
       "remove               -0.006026  ...  0.782614  1.000000  0.593765  0.264363   \n",
       "use                  -0.006240  ...  0.543363  0.593765  1.000000  0.353192   \n",
       "delete               -0.002952  ...  0.250183  0.264363  0.353192  1.000000   \n",
       "change               -0.002896  ...  0.277775  0.336491  0.343325  0.090862   \n",
       "messages_min         -0.015707  ... -0.067921 -0.073102  0.048508 -0.033333   \n",
       "messages_max         -0.014012  ...  0.308234  0.312657  0.553696  0.233031   \n",
       "messages_mean        -0.024569  ...  0.075090  0.071619  0.262149  0.052948   \n",
       "messages_median      -0.024502  ...  0.064564  0.053535  0.240827  0.041495   \n",
       "conflict              0.030821  ...  0.111861  0.093320  0.038679  0.024605   \n",
       "\n",
       "                   change  messages_min  messages_max  messages_mean  \\\n",
       "is pr            0.054110      0.171729      0.001246       0.118053   \n",
       "added lines      0.018410     -0.066003      0.014728      -0.035583   \n",
       "deleted lines    0.035270     -0.033833      0.000611      -0.024022   \n",
       "devs parent1     0.269873     -0.006864      0.311672       0.107722   \n",
       "devs parent2     0.126600     -0.118178      0.033238      -0.062620   \n",
       "time             0.088481     -0.083903      0.045640      -0.044480   \n",
       "nr files         0.250357     -0.071789      0.075794      -0.016358   \n",
       "added files      0.021885     -0.059125      0.018280      -0.029436   \n",
       "deleted files    0.014123     -0.020899     -0.003330      -0.016124   \n",
       "renamed files   -0.002896     -0.015707     -0.014012      -0.024569   \n",
       "copied files          NaN           NaN           NaN            NaN   \n",
       "modified files   0.008047     -0.045902      0.015324      -0.015427   \n",
       "nr commits1      0.398036     -0.023389      0.450708       0.151506   \n",
       "nr commits2      0.169239     -0.117878      0.117825      -0.009038   \n",
       "density1         0.210456      0.103288      0.407627       0.252704   \n",
       "density2         0.103506     -0.109196      0.132950       0.028715   \n",
       "fix              0.333817      0.009773      0.543249       0.245512   \n",
       "bug              0.272807      0.027065      0.451992       0.204332   \n",
       "feature          0.316014     -0.043545      0.264312       0.061646   \n",
       "improve          0.070506     -0.017644      0.146559       0.067728   \n",
       "document         0.262296      0.064035      0.438022       0.232102   \n",
       "refactor         0.198582     -0.046387      0.284604       0.083483   \n",
       "update           0.250374     -0.085179      0.257397       0.034163   \n",
       "add              0.277775     -0.067921      0.308234       0.075090   \n",
       "remove           0.336491     -0.073102      0.312657       0.071619   \n",
       "use              0.343325      0.048508      0.553696       0.262149   \n",
       "delete           0.090862     -0.033333      0.233031       0.052948   \n",
       "change           1.000000     -0.034217      0.316959       0.083160   \n",
       "messages_min    -0.034217      1.000000      0.255958       0.819450   \n",
       "messages_max     0.316959      0.255958      1.000000       0.632790   \n",
       "messages_mean    0.083160      0.819450      0.632790       1.000000   \n",
       "messages_median  0.032874      0.844944      0.545316       0.980178   \n",
       "conflict         0.082413     -0.162519      0.060914      -0.073252   \n",
       "\n",
       "                 messages_median  conflict  \n",
       "is pr                   0.139761 -0.559747  \n",
       "added lines            -0.047574  0.101083  \n",
       "deleted lines          -0.029483  0.046464  \n",
       "devs parent1            0.108224 -0.071319  \n",
       "devs parent2           -0.070024  0.258209  \n",
       "time                   -0.042206  0.062409  \n",
       "nr files               -0.041922  0.117668  \n",
       "added files            -0.036543  0.097728  \n",
       "deleted files          -0.017897  0.034326  \n",
       "renamed files          -0.024502  0.030821  \n",
       "copied files                 NaN       NaN  \n",
       "modified files         -0.020350  0.080918  \n",
       "nr commits1             0.137544 -0.012654  \n",
       "nr commits2            -0.025027  0.314438  \n",
       "density1                0.241658 -0.110267  \n",
       "density2                0.006284  0.241647  \n",
       "fix                     0.221003  0.058862  \n",
       "bug                     0.177748  0.045055  \n",
       "feature                 0.044417  0.068683  \n",
       "improve                 0.060081  0.028878  \n",
       "document                0.216194  0.028081  \n",
       "refactor                0.065246  0.124070  \n",
       "update                  0.023678  0.075747  \n",
       "add                     0.064564  0.111861  \n",
       "remove                  0.053535  0.093320  \n",
       "use                     0.240827  0.038679  \n",
       "delete                  0.041495  0.024605  \n",
       "change                  0.032874  0.082413  \n",
       "messages_min            0.844944 -0.162519  \n",
       "messages_max            0.545316  0.060914  \n",
       "messages_mean           0.980178 -0.073252  \n",
       "messages_median         1.000000 -0.099032  \n",
       "conflict               -0.099032  1.000000  \n",
       "\n",
       "[33 rows x 33 columns]"
      ]
     },
     "execution_count": 17,
     "metadata": {},
     "output_type": "execute_result"
    }
   ],
   "source": [
    "corr_matrix = data_matrix.corr()\n",
    "corr_matrix"
   ]
  },
  {
   "cell_type": "markdown",
   "id": "4fc8259b",
   "metadata": {},
   "source": [
    "Vedem care sunt coloanele care  influenteaza valoarea pentru conflict"
   ]
  },
  {
   "cell_type": "markdown",
   "id": "bad7eb70",
   "metadata": {},
   "source": [
    "Generam grafice de dependenta intre mai multe caracteristici prezente pentru a vedea care valori depind mai mult una de cealalta.\n",
    "Am ales is pr, add,conflicts, devs parent2, nr files, nr commits2 deoarece acestea prezinta cea mai mare corelatie raportata la valoarea lui conflict"
   ]
  },
  {
   "cell_type": "code",
   "execution_count": 18,
   "id": "082b0a17",
   "metadata": {
    "scrolled": false
   },
   "outputs": [
    {
     "data": {
      "text/plain": [
       "conflict           1.000000\n",
       "nr commits2        0.314438\n",
       "devs parent2       0.258209\n",
       "density2           0.241647\n",
       "refactor           0.124070\n",
       "nr files           0.117668\n",
       "add                0.111861\n",
       "added lines        0.101083\n",
       "added files        0.097728\n",
       "remove             0.093320\n",
       "change             0.082413\n",
       "modified files     0.080918\n",
       "update             0.075747\n",
       "feature            0.068683\n",
       "time               0.062409\n",
       "messages_max       0.060914\n",
       "fix                0.058862\n",
       "deleted lines      0.046464\n",
       "bug                0.045055\n",
       "use                0.038679\n",
       "deleted files      0.034326\n",
       "renamed files      0.030821\n",
       "improve            0.028878\n",
       "document           0.028081\n",
       "delete             0.024605\n",
       "nr commits1       -0.012654\n",
       "devs parent1      -0.071319\n",
       "messages_mean     -0.073252\n",
       "messages_median   -0.099032\n",
       "density1          -0.110267\n",
       "messages_min      -0.162519\n",
       "is pr             -0.559747\n",
       "copied files            NaN\n",
       "Name: conflict, dtype: float64"
      ]
     },
     "execution_count": 18,
     "metadata": {},
     "output_type": "execute_result"
    }
   ],
   "source": [
    "corr_matrix[\"conflict\"].sort_values(ascending=False)"
   ]
  },
  {
   "cell_type": "code",
   "execution_count": 19,
   "id": "f4c83774",
   "metadata": {},
   "outputs": [
    {
     "name": "stdout",
     "output_type": "stream",
     "text": [
      "Saving figure scatter_matrix_plot\n"
     ]
    },
    {
     "data": {
      "image/png": "[encoded data removed]",
      "text/plain": [
       "<Figure size 864x576 with 36 Axes>"
      ]
     },
     "metadata": {
      "needs_background": "light"
     },
     "output_type": "display_data"
    }
   ],
   "source": [
    "attributes = [\"is pr\",\"add\",\"devs parent2\",\"nr files\",\"nr commits2\",\"conflict\"]\n",
    "scatter_matrix(data_matrix[attributes], figsize=(12, 8))\n",
    "save_fig(\"scatter_matrix_plot\")"
   ]
  },
  {
   "cell_type": "code",
   "execution_count": 20,
   "id": "5de47df3",
   "metadata": {},
   "outputs": [
    {
     "data": {
      "text/plain": [
       "conflict\n",
       "0    25519\n",
       "1     1469\n",
       "dtype: int64"
      ]
     },
     "execution_count": 20,
     "metadata": {},
     "output_type": "execute_result"
    }
   ],
   "source": [
    "data.groupby('conflict').size()"
   ]
  },
  {
   "cell_type": "markdown",
   "id": "e2719dc8",
   "metadata": {},
   "source": [
    "Avem mai multe valori de 1 decat de 0 pentru conflicts => date nebalansate"
   ]
  },
  {
   "cell_type": "code",
   "execution_count": 21,
   "id": "563dadfe",
   "metadata": {},
   "outputs": [
    {
     "name": "stdout",
     "output_type": "stream",
     "text": [
      "Saving figure value of conflict\n"
     ]
    },
    {
     "data": {
      "image/png": "[encoded data removed]",
      "text/plain": [
       "<Figure size 432x288 with 1 Axes>"
      ]
     },
     "metadata": {
      "needs_background": "light"
     },
     "output_type": "display_data"
    }
   ],
   "source": [
    "data[\"conflict\"].value_counts().plot.bar()\n",
    "save_fig(\"value of conflict\")"
   ]
  },
  {
   "cell_type": "markdown",
   "id": "f3491125",
   "metadata": {},
   "source": [
    "# Prepare the data for Machine Learning algorithms"
   ]
  },
  {
   "cell_type": "code",
   "execution_count": 22,
   "id": "0238c081",
   "metadata": {},
   "outputs": [],
   "source": [
    "x_train = train_set[train_set.columns.drop(['conflict'])]\n",
    "y_train = train_set['conflict']\n",
    "x_test = test_set[test_set.columns.drop(['conflict'])]\n",
    "y_test = test_set['conflict']"
   ]
  },
  {
   "cell_type": "markdown",
   "id": "9995e8ed",
   "metadata": {},
   "source": [
    "Se vor elimina valorile nule daca exista.\n",
    "In cazul de fata nu exista"
   ]
  },
  {
   "cell_type": "code",
   "execution_count": 23,
   "id": "f7bebdd7",
   "metadata": {},
   "outputs": [
    {
     "data": {
      "text/html": [
       "<div>\n",
       "<style scoped>\n",
       "    .dataframe tbody tr th:only-of-type {\n",
       "        vertical-align: middle;\n",
       "    }\n",
       "\n",
       "    .dataframe tbody tr th {\n",
       "        vertical-align: top;\n",
       "    }\n",
       "\n",
       "    .dataframe thead th {\n",
       "        text-align: right;\n",
       "    }\n",
       "</style>\n",
       "<table border=\"1\" class=\"dataframe\">\n",
       "  <thead>\n",
       "    <tr style=\"text-align: right;\">\n",
       "      <th></th>\n",
       "      <th>is pr</th>\n",
       "      <th>added lines</th>\n",
       "      <th>deleted lines</th>\n",
       "      <th>devs parent1</th>\n",
       "      <th>devs parent2</th>\n",
       "      <th>time</th>\n",
       "      <th>nr files</th>\n",
       "      <th>added files</th>\n",
       "      <th>deleted files</th>\n",
       "      <th>renamed files</th>\n",
       "      <th>...</th>\n",
       "      <th>add</th>\n",
       "      <th>remove</th>\n",
       "      <th>use</th>\n",
       "      <th>delete</th>\n",
       "      <th>change</th>\n",
       "      <th>messages_min</th>\n",
       "      <th>messages_max</th>\n",
       "      <th>messages_mean</th>\n",
       "      <th>messages_median</th>\n",
       "      <th>conflict</th>\n",
       "    </tr>\n",
       "  </thead>\n",
       "  <tbody>\n",
       "  </tbody>\n",
       "</table>\n",
       "<p>0 rows × 33 columns</p>\n",
       "</div>"
      ],
      "text/plain": [
       "Empty DataFrame\n",
       "Columns: [is pr, added lines, deleted lines, devs parent1, devs parent2, time, nr files, added files, deleted files, renamed files, copied files, modified files, nr commits1, nr commits2, density1, density2, fix, bug, feature, improve, document, refactor, update, add, remove, use, delete, change, messages_min, messages_max, messages_mean, messages_median, conflict]\n",
       "Index: []\n",
       "\n",
       "[0 rows x 33 columns]"
      ]
     },
     "execution_count": 23,
     "metadata": {},
     "output_type": "execute_result"
    }
   ],
   "source": [
    "incomplete_rows = train_set[train_set.isnull().any(axis=1)].head()\n",
    "incomplete_rows"
   ]
  },
  {
   "cell_type": "markdown",
   "id": "50a45dbf",
   "metadata": {},
   "source": [
    "Scalam datele de train si de test"
   ]
  },
  {
   "cell_type": "code",
   "execution_count": 24,
   "id": "809fe234",
   "metadata": {},
   "outputs": [],
   "source": [
    "num_pipeline = Pipeline([\n",
    "    \n",
    "        ('std_scaler', StandardScaler()),\n",
    "    ])\n",
    "x_train_sc = num_pipeline.fit_transform(x_train)\n",
    "x_test_sc = num_pipeline.fit_transform(x_test)"
   ]
  },
  {
   "cell_type": "code",
   "execution_count": 25,
   "id": "33a645b5",
   "metadata": {
    "scrolled": true
   },
   "outputs": [
    {
     "name": "stdout",
     "output_type": "stream",
     "text": [
      "Before scaler \n",
      "        is pr  added lines  deleted lines  devs parent1  devs parent2  time  \\\n",
      "22705      0          112            115            48             1    49   \n",
      "13324      1            1              0             7             1    78   \n",
      "13429      1            1              0            10             1    49   \n",
      "10333      0           28             17             1             1     0   \n",
      "11476      0          101            614             8             1   332   \n",
      "...      ...          ...            ...           ...           ...   ...   \n",
      "18400      1           28              0            40             1  4661   \n",
      "24998      0        11843           1095             2            39   741   \n",
      "25099      0         3533             74             2            11   172   \n",
      "25854      0           15             15            61             2  4759   \n",
      "3668       0           21             21            31             3     2   \n",
      "\n",
      "       nr files  added files  deleted files  renamed files  ...  update  add  \\\n",
      "22705         1            0              0              0  ...      11   26   \n",
      "13324         1            0              0              0  ...       1    6   \n",
      "13429         1            0              0              0  ...       3    6   \n",
      "10333         6            0              0              0  ...       0    0   \n",
      "11476         2            0              8              1  ...       9   11   \n",
      "...         ...          ...            ...            ...  ...     ...  ...   \n",
      "18400         4            0              0              0  ...      16   20   \n",
      "24998         8           42              1              2  ...      39   71   \n",
      "25099         6           16              0              0  ...       7   27   \n",
      "25854         5            0              0              0  ...      19   21   \n",
      "3668        561            0              0              0  ...       9   21   \n",
      "\n",
      "       remove  use  delete  change  messages_min  messages_max  messages_mean  \\\n",
      "22705       2    8       0      11           441           646     481.592857   \n",
      "13324       0    0       0       0            23            86      47.928571   \n",
      "13429       0    3       0       0            24            83      50.590909   \n",
      "10333       0    0       0       0            32            32      32.000000   \n",
      "11476       3    1       1       5            34           238     102.895833   \n",
      "...       ...  ...     ...     ...           ...           ...            ...   \n",
      "18400       4    5       0       7            50           205      81.946154   \n",
      "24998      16   14       1       4             8           203      63.057182   \n",
      "25099       3    1       1       3            27           246      88.524725   \n",
      "25854      17   18       1      11            47           165      89.273973   \n",
      "3668       15   17       0       3            17           169      66.499069   \n",
      "\n",
      "       messages_median  \n",
      "22705            480.0  \n",
      "13324             40.0  \n",
      "13429             48.5  \n",
      "10333             32.0  \n",
      "11476             93.5  \n",
      "...                ...  \n",
      "18400             81.0  \n",
      "24998             61.5  \n",
      "25099             64.0  \n",
      "25854             90.0  \n",
      "3668              64.0  \n",
      "\n",
      "[4515 rows x 32 columns]\n"
     ]
    }
   ],
   "source": [
    "print(f\"Before scaler \\n {x_train}\")"
   ]
  },
  {
   "cell_type": "code",
   "execution_count": 26,
   "id": "fc37512b",
   "metadata": {
    "scrolled": true
   },
   "outputs": [
    {
     "name": "stdout",
     "output_type": "stream",
     "text": [
      "After scaler \n",
      " [[-1.00110803 -0.10487829 -0.03361646 ...  4.44876658 11.1318543\n",
      "  11.39578048]\n",
      " [ 0.99889319 -0.12286238 -0.03992741 ... -0.57634114 -0.89294289\n",
      "  -1.06000859]\n",
      " [ 0.99889319 -0.12286238 -0.03992741 ... -0.60326136 -0.81912065\n",
      "  -0.81938539]\n",
      " ...\n",
      " [-1.00110803  0.44938814 -0.03586645 ...  0.85940392  0.23272166\n",
      "  -0.38060191]\n",
      " [-1.00110803 -0.12059412 -0.03910424 ...  0.13255799  0.25349706\n",
      "   0.35542198]\n",
      " [-1.00110803 -0.119622   -0.03877498 ...  0.16845161 -0.37801355\n",
      "  -0.38060191]]\n"
     ]
    }
   ],
   "source": [
    "print(f\"After scaler \\n {x_train_sc}\")"
   ]
  },
  {
   "cell_type": "markdown",
   "id": "1250331a",
   "metadata": {},
   "source": [
    "# Select and train a model"
   ]
  },
  {
   "cell_type": "markdown",
   "id": "295cc217",
   "metadata": {},
   "source": [
    "## Decision Tree Classifier"
   ]
  },
  {
   "cell_type": "code",
   "execution_count": 27,
   "id": "56c946bc",
   "metadata": {},
   "outputs": [
    {
     "name": "stdout",
     "output_type": "stream",
     "text": [
      "Decision Tree Clasifier accuracy score : 0.7989371124889283\n"
     ]
    }
   ],
   "source": [
    "decision_tree = dtc(criterion='entropy', max_depth=4)\n",
    "decision_tree = decision_tree.fit(x_train_sc, y_train)\n",
    "print(f\"Decision Tree Clasifier accuracy score : {decision_tree.score(x_test_sc, y_test)}\")"
   ]
  },
  {
   "cell_type": "code",
   "execution_count": 28,
   "id": "962b6555",
   "metadata": {},
   "outputs": [],
   "source": [
    "y_pred = decision_tree.predict(x_test_sc)"
   ]
  },
  {
   "cell_type": "markdown",
   "id": "dafd7c45",
   "metadata": {},
   "source": [
    "De cate ori a prezis ca e conflict in cazul in care avem sau nu conflict."
   ]
  },
  {
   "cell_type": "code",
   "execution_count": 29,
   "id": "b084d1d4",
   "metadata": {
    "scrolled": true
   },
   "outputs": [
    {
     "data": {
      "text/plain": [
       "0.6806324462574462"
      ]
     },
     "execution_count": 29,
     "metadata": {},
     "output_type": "execute_result"
    }
   ],
   "source": [
    "# recall\n",
    "recall_score(y_test, y_pred, average = 'macro')"
   ]
  },
  {
   "cell_type": "markdown",
   "id": "717b14c4",
   "metadata": {},
   "source": [
    "Daca avem conflict, de cate ori a prezis bine sau nu."
   ]
  },
  {
   "cell_type": "code",
   "execution_count": 30,
   "id": "14f07d8b",
   "metadata": {
    "scrolled": true
   },
   "outputs": [
    {
     "data": {
      "text/plain": [
       "0.6881720430107527"
      ]
     },
     "execution_count": 30,
     "metadata": {},
     "output_type": "execute_result"
    }
   ],
   "source": [
    "# precizia\n",
    "precision_score(y_test, y_pred, average='binary')"
   ]
  },
  {
   "cell_type": "markdown",
   "id": "b25f801c",
   "metadata": {},
   "source": [
    "Verificam eficienta clasificatorului pentru datele de train si test."
   ]
  },
  {
   "cell_type": "code",
   "execution_count": 31,
   "id": "dcd86576",
   "metadata": {},
   "outputs": [
    {
     "name": "stdout",
     "output_type": "stream",
     "text": [
      "RMSE Decision  Tree Train: 0.3886541505329222\n",
      "MAE Decision  Tree Train: 0.15105204872646733\n",
      "RMSE Decision  Tree Train: 0.44840036519952986\n",
      "MAE Decision  Tree Train: 0.20106288751107174\n"
     ]
    }
   ],
   "source": [
    "final_predictions = decision_tree.predict(x_train_sc)\n",
    "\n",
    "mse = np.sqrt(mean_squared_error(final_predictions,y_train))\n",
    "\n",
    "print(\"RMSE Decision  Tree Train:\",mse)\n",
    "\n",
    "mae = mean_absolute_error(final_predictions,y_train)\n",
    "print(\"MAE Decision  Tree Train:\",mae)\n",
    "\n",
    "final_mse = np.sqrt(mean_squared_error(y_pred,y_test))\n",
    "\n",
    "print(\"RMSE Decision  Tree Train:\",final_mse)\n",
    "\n",
    "final_mae = mean_absolute_error(y_pred,y_test)\n",
    "print(\"MAE Decision  Tree Train:\",final_mae)"
   ]
  },
  {
   "cell_type": "code",
   "execution_count": 32,
   "id": "18919f0c",
   "metadata": {},
   "outputs": [
    {
     "name": "stdout",
     "output_type": "stream",
     "text": [
      "Scores: [0.39071072 0.39911406 0.37921671 0.41541109 0.40187613 0.40779544\n",
      " 0.40779544 0.39955629 0.41050507 0.40506768]\n",
      "Mean: 0.4017048621205781\n",
      "Standard deviation: 0.009943586973092486\n"
     ]
    }
   ],
   "source": [
    "# cross validation/ de 10 ori\n",
    "tree_scores = cross_val_score(decision_tree, x_train_sc, y_train, scoring=\"neg_mean_squared_error\",cv=10)\n",
    "tree_rmse_scores = np.sqrt(-tree_scores)\n",
    "\n",
    "def display_scores(scores):\n",
    "    print(\"Scores:\", scores)\n",
    "    print(\"Mean:\", scores.mean())\n",
    "    print(\"Standard deviation:\", scores.std())\n",
    "\n",
    "display_scores(tree_rmse_scores)\n"
   ]
  },
  {
   "cell_type": "markdown",
   "id": "b00b0d4b",
   "metadata": {},
   "source": [
    "## Random Forest"
   ]
  },
  {
   "cell_type": "code",
   "execution_count": 33,
   "id": "320e8a11",
   "metadata": {},
   "outputs": [
    {
     "name": "stdout",
     "output_type": "stream",
     "text": [
      "Random Forest Clasifier accuracy score : 0.8423383525243578\n"
     ]
    }
   ],
   "source": [
    "random_forest = ensemble.RandomForestClassifier()\n",
    "random_forest.fit(x_train_sc, y_train)  \n",
    "print(f\"Random Forest Clasifier accuracy score : {random_forest.score(x_test_sc,y_test)}\")"
   ]
  },
  {
   "cell_type": "code",
   "execution_count": 34,
   "id": "c375057f",
   "metadata": {},
   "outputs": [],
   "source": [
    "y_pred = random_forest.predict(x_test_sc)"
   ]
  },
  {
   "cell_type": "markdown",
   "id": "f8c316cf",
   "metadata": {},
   "source": [
    "De cate ori a prezis ca e conflict in cazul in care avem sau nu conflict."
   ]
  },
  {
   "cell_type": "code",
   "execution_count": 35,
   "id": "09d8da8d",
   "metadata": {},
   "outputs": [
    {
     "data": {
      "text/plain": [
       "0.77286689005439"
      ]
     },
     "execution_count": 35,
     "metadata": {},
     "output_type": "execute_result"
    }
   ],
   "source": [
    "#recall\n",
    "recall_score(y_test, y_pred, average = 'macro')"
   ]
  },
  {
   "cell_type": "markdown",
   "id": "06609b02",
   "metadata": {},
   "source": [
    "Daca avem conflict, de cate ori a prezis bine sau nu."
   ]
  },
  {
   "cell_type": "code",
   "execution_count": 36,
   "id": "f8ffe49c",
   "metadata": {},
   "outputs": [
    {
     "data": {
      "text/plain": [
       "0.7351778656126482"
      ]
     },
     "execution_count": 36,
     "metadata": {},
     "output_type": "execute_result"
    }
   ],
   "source": [
    "# precizia\n",
    "precision_score(y_test, y_pred, average='binary')"
   ]
  },
  {
   "cell_type": "markdown",
   "id": "17b477ff",
   "metadata": {},
   "source": [
    "Verificam eficienta clasificatorului pentru datele de train si test."
   ]
  },
  {
   "cell_type": "code",
   "execution_count": 37,
   "id": "44374838",
   "metadata": {},
   "outputs": [
    {
     "name": "stdout",
     "output_type": "stream",
     "text": [
      "RMSE Random Forest Train: 0.02104680224709564\n",
      "MAE  Random Forest Train: 0.00044296788482834997\n",
      "RMSE  Random Forest Train: 0.397066301108067\n",
      "MAE  Random Forest Train: 0.15766164747564215\n"
     ]
    }
   ],
   "source": [
    "final_predictions = random_forest.predict(x_train_sc)\n",
    "\n",
    "mse = np.sqrt(mean_squared_error(final_predictions,y_train))\n",
    "\n",
    "print(\"RMSE Random Forest Train:\",mse)\n",
    "\n",
    "mae = mean_absolute_error(final_predictions,y_train)\n",
    "print(\"MAE  Random Forest Train:\",mae)\n",
    "\n",
    "final_mse = np.sqrt(mean_squared_error(y_pred,y_test))\n",
    "\n",
    "print(\"RMSE  Random Forest Train:\",final_mse)\n",
    "\n",
    "final_mae = mean_absolute_error(y_pred,y_test)\n",
    "print(\"MAE  Random Forest Train:\",final_mae)"
   ]
  },
  {
   "cell_type": "code",
   "execution_count": 38,
   "id": "3ef64622",
   "metadata": {
    "scrolled": true
   },
   "outputs": [
    {
     "name": "stdout",
     "output_type": "stream",
     "text": [
      "Scores: [0.39071072 0.37333702 0.34882863 0.37628835 0.37628835 0.36777029\n",
      " 0.3967719  0.36777029 0.37077255 0.40506768]\n",
      "Mean: 0.377360578056651\n",
      "Standard deviation: 0.015435732336716393\n"
     ]
    }
   ],
   "source": [
    "random_scores = cross_val_score(random_forest, x_train_sc, y_train,\n",
    "                             scoring=\"neg_mean_squared_error\", cv=10)\n",
    "random_rmse_scores = np.sqrt(-random_scores)\n",
    "display_scores(random_rmse_scores)"
   ]
  },
  {
   "cell_type": "markdown",
   "id": "bfa2afbf",
   "metadata": {},
   "source": [
    "## Gradient Boosting Classifier"
   ]
  },
  {
   "cell_type": "code",
   "execution_count": 39,
   "id": "4abee64d",
   "metadata": {},
   "outputs": [
    {
     "name": "stdout",
     "output_type": "stream",
     "text": [
      "Gradient Boosting accuracy score : 0.8317094774136404\n"
     ]
    }
   ],
   "source": [
    "gradient_boosting=ensemble.GradientBoostingClassifier()\n",
    "gradient_boosting.fit(x_train_sc, y_train) \n",
    "print(f\"Gradient Boosting accuracy score : {gradient_boosting.score(x_test_sc,y_test)}\")"
   ]
  },
  {
   "cell_type": "code",
   "execution_count": 40,
   "id": "440842eb",
   "metadata": {},
   "outputs": [],
   "source": [
    "y_pred = gradient_boosting.predict(x_test_sc)"
   ]
  },
  {
   "cell_type": "markdown",
   "id": "00e65a65",
   "metadata": {},
   "source": [
    "De cate ori a prezis ca e conflict in cazul in care avem sau nu conflict."
   ]
  },
  {
   "cell_type": "code",
   "execution_count": 41,
   "id": "c1d3fc09",
   "metadata": {},
   "outputs": [
    {
     "data": {
      "text/plain": [
       "0.7461696289821289"
      ]
     },
     "execution_count": 41,
     "metadata": {},
     "output_type": "execute_result"
    }
   ],
   "source": [
    "#recall\n",
    "recall_score(y_test, y_pred, average = 'macro')"
   ]
  },
  {
   "cell_type": "markdown",
   "id": "4739abe0",
   "metadata": {},
   "source": [
    "Daca avem conflict, de cate ori a prezis bine sau nu."
   ]
  },
  {
   "cell_type": "code",
   "execution_count": 42,
   "id": "279f9ebe",
   "metadata": {
    "scrolled": true
   },
   "outputs": [
    {
     "data": {
      "text/plain": [
       "0.7336244541484717"
      ]
     },
     "execution_count": 42,
     "metadata": {},
     "output_type": "execute_result"
    }
   ],
   "source": [
    "# precizia\n",
    "precision_score(y_test, y_pred, average='binary')"
   ]
  },
  {
   "cell_type": "markdown",
   "id": "15efa740",
   "metadata": {},
   "source": [
    "Verificam eficienta clasificatorului pentru datele de train si test."
   ]
  },
  {
   "cell_type": "code",
   "execution_count": 43,
   "id": "c67f59ca",
   "metadata": {},
   "outputs": [
    {
     "name": "stdout",
     "output_type": "stream",
     "text": [
      "RMSE Gradient Boosting Train: 0.3354308315381889\n",
      "MAE  Gradient Boosting Train: 0.11251384274640089\n",
      "RMSE  Gradient Boosting Train: 0.41023227882062085\n",
      "MAE Gradient Boosting Train: 0.1682905225863596\n"
     ]
    }
   ],
   "source": [
    "final_predictions = gradient_boosting.predict(x_train_sc)\n",
    "\n",
    "mse = np.sqrt(mean_squared_error(final_predictions,y_train))\n",
    "\n",
    "print(\"RMSE Gradient Boosting Train:\",mse)\n",
    "\n",
    "mae = mean_absolute_error(final_predictions,y_train)\n",
    "print(\"MAE  Gradient Boosting Train:\",mae)\n",
    "\n",
    "final_mse = np.sqrt(mean_squared_error(y_pred,y_test))\n",
    "\n",
    "print(\"RMSE  Gradient Boosting Train:\",final_mse)\n",
    "\n",
    "final_mae = mean_absolute_error(y_pred,y_test)\n",
    "print(\"MAE Gradient Boosting Train:\",final_mae)"
   ]
  },
  {
   "cell_type": "code",
   "execution_count": 44,
   "id": "30e27842",
   "metadata": {},
   "outputs": [
    {
     "name": "stdout",
     "output_type": "stream",
     "text": [
      "Scores: [0.38786915 0.36433963 0.34564292 0.39071072 0.3612907  0.38543321\n",
      " 0.39396782 0.36474333 0.39114364 0.39114364]\n",
      "Mean: 0.3776284756576237\n",
      "Standard deviation: 0.016130230202560554\n"
     ]
    }
   ],
   "source": [
    "gradient_scores = cross_val_score(gradient_boosting, x_train_sc, y_train,\n",
    "                             scoring=\"neg_mean_squared_error\", cv=10)\n",
    "gradient_rmse_scores = np.sqrt(-gradient_scores)\n",
    "display_scores(gradient_rmse_scores)"
   ]
  },
  {
   "cell_type": "markdown",
   "id": "33a7ca73",
   "metadata": {},
   "source": [
    "## Naive Bayes Classifier"
   ]
  },
  {
   "cell_type": "code",
   "execution_count": 45,
   "id": "425a5ec2",
   "metadata": {},
   "outputs": [
    {
     "name": "stdout",
     "output_type": "stream",
     "text": [
      "Gaussian NB accuracy score : 0.770593445527015\n"
     ]
    }
   ],
   "source": [
    "gaussian_nb = GaussianNB()\n",
    "gaussian_nb.fit(x_train_sc, y_train) \n",
    "print(f\"Gaussian NB accuracy score : {gaussian_nb.score(x_test_sc,y_test)}\")"
   ]
  },
  {
   "cell_type": "code",
   "execution_count": 46,
   "id": "93930b3b",
   "metadata": {},
   "outputs": [],
   "source": [
    "y_pred = gaussian_nb.predict(x_test_sc)"
   ]
  },
  {
   "cell_type": "markdown",
   "id": "c4f15df4",
   "metadata": {},
   "source": [
    "De cate ori a prezis ca e conflict in cazul in care avem sau nu conflict."
   ]
  },
  {
   "cell_type": "code",
   "execution_count": 47,
   "id": "746ae4e1",
   "metadata": {},
   "outputs": [
    {
     "data": {
      "text/plain": [
       "0.6029445091945093"
      ]
     },
     "execution_count": 47,
     "metadata": {},
     "output_type": "execute_result"
    }
   ],
   "source": [
    "#recall\n",
    "recall_score(y_test, y_pred, average = 'macro')"
   ]
  },
  {
   "cell_type": "markdown",
   "id": "813a553a",
   "metadata": {},
   "source": [
    "Daca avem conflict, de cate ori a prezis bine sau nu."
   ]
  },
  {
   "cell_type": "code",
   "execution_count": 48,
   "id": "f3d220c2",
   "metadata": {
    "scrolled": true
   },
   "outputs": [
    {
     "data": {
      "text/plain": [
       "0.6727272727272727"
      ]
     },
     "execution_count": 48,
     "metadata": {},
     "output_type": "execute_result"
    }
   ],
   "source": [
    "# precizia\n",
    "precision_score(y_test, y_pred, average='binary')"
   ]
  },
  {
   "cell_type": "markdown",
   "id": "4d4fc456",
   "metadata": {},
   "source": [
    "Verificam eficienta clasificatorului pentru datele de train si test."
   ]
  },
  {
   "cell_type": "code",
   "execution_count": 49,
   "id": "fc3dbf40",
   "metadata": {},
   "outputs": [
    {
     "name": "stdout",
     "output_type": "stream",
     "text": [
      "RMSE Naive Bayes Train: 0.47460422399639046\n",
      "MAE  Naive Bayes Train: 0.22524916943521595\n",
      "RMSE Naive Bayes  Train: 0.4789640429854677\n",
      "MAE Naive Bayes Train: 0.22940655447298494\n"
     ]
    }
   ],
   "source": [
    "final_predictions = gaussian_nb.predict(x_train_sc)\n",
    "\n",
    "mse = np.sqrt(mean_squared_error(final_predictions,y_train))\n",
    "\n",
    "print(\"RMSE Naive Bayes Train:\",mse)\n",
    "\n",
    "mae = mean_absolute_error(final_predictions,y_train)\n",
    "print(\"MAE  Naive Bayes Train:\",mae)\n",
    "\n",
    "final_mse = np.sqrt(mean_squared_error(y_pred,y_test))\n",
    "\n",
    "print(\"RMSE Naive Bayes  Train:\",final_mse)\n",
    "\n",
    "final_mae = mean_absolute_error(y_pred,y_test)\n",
    "print(\"MAE Naive Bayes Train:\",final_mae)"
   ]
  },
  {
   "cell_type": "code",
   "execution_count": 50,
   "id": "faa1754c",
   "metadata": {},
   "outputs": [
    {
     "name": "stdout",
     "output_type": "stream",
     "text": [
      "Scores: [0.47504075 0.4773637  0.48426571 0.46085722 0.4773637  0.47088161\n",
      " 0.49833425 0.47323016 0.46136787 0.47088161]\n",
      "Mean: 0.47495865936411497\n",
      "Standard deviation: 0.010317011360289738\n"
     ]
    }
   ],
   "source": [
    "gaussian_scores = cross_val_score(gaussian_nb, x_train_sc, y_train,\n",
    "                             scoring=\"neg_mean_squared_error\", cv=10)\n",
    "gaussian_rmse_scores = np.sqrt(-gaussian_scores)\n",
    "display_scores(gaussian_rmse_scores)"
   ]
  },
  {
   "cell_type": "markdown",
   "id": "a92e061f",
   "metadata": {},
   "source": [
    "## K-Nearest Neighbor Classifier"
   ]
  },
  {
   "cell_type": "code",
   "execution_count": 51,
   "id": "29774f40",
   "metadata": {},
   "outputs": [
    {
     "name": "stdout",
     "output_type": "stream",
     "text": [
      "K Neighbors accuracy score : 0.8148804251550045\n"
     ]
    }
   ],
   "source": [
    "kneighbor_classifier = KNeighborsClassifier(n_neighbors=4)\n",
    "kneighbor_classifier.fit(x_train_sc, y_train)\n",
    "print(f\"K Neighbors accuracy score : {kneighbor_classifier.score(x_test_sc,y_test)}\")"
   ]
  },
  {
   "cell_type": "code",
   "execution_count": 52,
   "id": "0cac1023",
   "metadata": {},
   "outputs": [],
   "source": [
    "y_pred = kneighbor_classifier.predict(x_test_sc)"
   ]
  },
  {
   "cell_type": "markdown",
   "id": "7a8aa9d3",
   "metadata": {},
   "source": [
    "De cate ori a prezis ca e conflict in cazul in care avem sau nu conflict."
   ]
  },
  {
   "cell_type": "code",
   "execution_count": 53,
   "id": "2414267b",
   "metadata": {},
   "outputs": [
    {
     "data": {
      "text/plain": [
       "0.7087703962703963"
      ]
     },
     "execution_count": 53,
     "metadata": {},
     "output_type": "execute_result"
    }
   ],
   "source": [
    "#recall\n",
    "recall_score(y_test, y_pred, average = 'macro')"
   ]
  },
  {
   "cell_type": "markdown",
   "id": "9a5f0d5c",
   "metadata": {},
   "source": [
    "Daca avem conflict, de cate ori a prezis bine sau nu."
   ]
  },
  {
   "cell_type": "code",
   "execution_count": 54,
   "id": "c09a2135",
   "metadata": {},
   "outputs": [
    {
     "data": {
      "text/plain": [
       "0.72"
      ]
     },
     "execution_count": 54,
     "metadata": {},
     "output_type": "execute_result"
    }
   ],
   "source": [
    "# precizia\n",
    "precision_score(y_test, y_pred, average='binary')"
   ]
  },
  {
   "cell_type": "markdown",
   "id": "0cd11d40",
   "metadata": {},
   "source": [
    "Verificam eficienta clasificatorului pentru datele de train si test."
   ]
  },
  {
   "cell_type": "code",
   "execution_count": 55,
   "id": "7dee6c29",
   "metadata": {},
   "outputs": [
    {
     "name": "stdout",
     "output_type": "stream",
     "text": [
      "RMSE K-Nearest Neighbor Train: 0.35841412723303956\n",
      "MAE  K-Nearest Neighbor  Train: 0.12846068660022147\n",
      "RMSE K-Nearest Neighbor   Train: 0.4302552438320718\n",
      "MAE K-Nearest Neighbor  Train: 0.18511957484499558\n"
     ]
    }
   ],
   "source": [
    "final_predictions = kneighbor_classifier.predict(x_train_sc)\n",
    "\n",
    "mse = np.sqrt(mean_squared_error(final_predictions,y_train))\n",
    "\n",
    "print(\"RMSE K-Nearest Neighbor Train:\",mse)\n",
    "\n",
    "mae = mean_absolute_error(final_predictions,y_train)\n",
    "print(\"MAE  K-Nearest Neighbor  Train:\",mae)\n",
    "\n",
    "final_mse = np.sqrt(mean_squared_error(y_pred,y_test))\n",
    "\n",
    "print(\"RMSE K-Nearest Neighbor   Train:\",final_mse)\n",
    "\n",
    "final_mae = mean_absolute_error(y_pred,y_test)\n",
    "print(\"MAE K-Nearest Neighbor  Train:\",final_mae)"
   ]
  },
  {
   "cell_type": "code",
   "execution_count": 56,
   "id": "2b36aaa9",
   "metadata": {},
   "outputs": [
    {
     "name": "stdout",
     "output_type": "stream",
     "text": [
      "Scores: [0.46563307 0.42851875 0.45359918 0.4180655  0.4412372  0.43413139\n",
      " 0.43667764 0.43413139 0.4417261  0.45653666]\n",
      "Mean: 0.4410256885510349\n",
      "Standard deviation: 0.013424989728608203\n"
     ]
    }
   ],
   "source": [
    "kneighbor_scores = cross_val_score(kneighbor_classifier, x_train_sc, y_train,\n",
    "                             scoring=\"neg_mean_squared_error\", cv=10)\n",
    "kneighbor_rmse_scores = np.sqrt(-kneighbor_scores)\n",
    "display_scores(kneighbor_rmse_scores)"
   ]
  },
  {
   "cell_type": "markdown",
   "id": "81afe78b",
   "metadata": {},
   "source": [
    "## SVM Classifier"
   ]
  },
  {
   "cell_type": "code",
   "execution_count": 57,
   "id": "a8784a7b",
   "metadata": {},
   "outputs": [
    {
     "name": "stdout",
     "output_type": "stream",
     "text": [
      "Svm Classifier accuracy score : 0.812223206377325\n"
     ]
    }
   ],
   "source": [
    "svm_classifier = SVC(probability=True)\n",
    "svm_classifier.fit(x_train_sc, y_train)\n",
    "print(f\"Svm Classifier accuracy score : {svm_classifier.score(x_test_sc,y_test)}\")"
   ]
  },
  {
   "cell_type": "code",
   "execution_count": 58,
   "id": "08759155",
   "metadata": {},
   "outputs": [],
   "source": [
    "y_pred = svm_classifier.predict(x_test_sc)"
   ]
  },
  {
   "cell_type": "markdown",
   "id": "ee98dfb7",
   "metadata": {},
   "source": [
    "De cate ori a prezis ca e conflict in cazul in care avem sau nu conflict."
   ]
  },
  {
   "cell_type": "code",
   "execution_count": 59,
   "id": "8fb1c6e5",
   "metadata": {},
   "outputs": [
    {
     "data": {
      "text/plain": [
       "0.6928944897694898"
      ]
     },
     "execution_count": 59,
     "metadata": {},
     "output_type": "execute_result"
    }
   ],
   "source": [
    "#recall\n",
    "recall_score(y_test, y_pred, average = 'macro')"
   ]
  },
  {
   "cell_type": "markdown",
   "id": "9662628e",
   "metadata": {},
   "source": [
    "Daca avem conflict, de cate ori a prezis bine sau nu."
   ]
  },
  {
   "cell_type": "code",
   "execution_count": 60,
   "id": "a5d3b031",
   "metadata": {},
   "outputs": [
    {
     "data": {
      "text/plain": [
       "0.7401129943502824"
      ]
     },
     "execution_count": 60,
     "metadata": {},
     "output_type": "execute_result"
    }
   ],
   "source": [
    "# precizia\n",
    "precision_score(y_test, y_pred, average='binary')"
   ]
  },
  {
   "cell_type": "markdown",
   "id": "5aeb56ad",
   "metadata": {},
   "source": [
    "Verificam eficienta clasificatorului pentru datele de train si test."
   ]
  },
  {
   "cell_type": "code",
   "execution_count": 61,
   "id": "4cdee9a5",
   "metadata": {},
   "outputs": [
    {
     "name": "stdout",
     "output_type": "stream",
     "text": [
      "RMSE SVM Classifier Train: 0.3985021790542223\n",
      "MAE  SVM Classifier  Train: 0.15880398671096346\n",
      "RMSE SVM Classifier   Train: 0.43333219776826526\n",
      "MAE SVM Classifier  Train: 0.18777679362267494\n"
     ]
    }
   ],
   "source": [
    "final_predictions = svm_classifier.predict(x_train_sc)\n",
    "\n",
    "mse = np.sqrt(mean_squared_error(final_predictions,y_train))\n",
    "\n",
    "print(\"RMSE SVM Classifier Train:\",mse)\n",
    "\n",
    "mae = mean_absolute_error(final_predictions,y_train)\n",
    "print(\"MAE  SVM Classifier  Train:\",mae)\n",
    "\n",
    "final_mse = np.sqrt(mean_squared_error(y_pred,y_test))\n",
    "\n",
    "print(\"RMSE SVM Classifier   Train:\",final_mse)\n",
    "\n",
    "final_mae = mean_absolute_error(y_pred,y_test)\n",
    "print(\"MAE SVM Classifier  Train:\",final_mae)"
   ]
  },
  {
   "cell_type": "code",
   "execution_count": 62,
   "id": "70298b74",
   "metadata": {},
   "outputs": [
    {
     "name": "stdout",
     "output_type": "stream",
     "text": [
      "Scores: [0.43619432 0.39633275 0.42070316 0.41541109 0.43365089 0.41319694\n",
      " 0.43157012 0.4417261  0.43667764 0.43157012]\n",
      "Mean: 0.42570331386949095\n",
      "Standard deviation: 0.013301131570776442\n"
     ]
    }
   ],
   "source": [
    "svm_classifier_scores = cross_val_score(svm_classifier, x_train_sc, y_train,\n",
    "                             scoring=\"neg_mean_squared_error\", cv=10)\n",
    "svm_classifier_rmse_scores = np.sqrt(-svm_classifier_scores)\n",
    "display_scores(svm_classifier_rmse_scores)"
   ]
  },
  {
   "cell_type": "markdown",
   "id": "2cbd78ff",
   "metadata": {},
   "source": [
    "## Comparing Classifiers"
   ]
  },
  {
   "cell_type": "code",
   "execution_count": 63,
   "id": "2c421f72",
   "metadata": {},
   "outputs": [],
   "source": [
    "names = [\"Decision_Tree\", \"Random_Forest\", \"Gradient_Boosting\", \"Naive_Bayes\",\"K-Nearest Neighbor Classifier\",\"SVM Classifier\"]\n",
    "classifiers = [\n",
    "   dtc(criterion='entropy', max_depth=4),\n",
    "   ensemble.RandomForestClassifier(),\n",
    "    ensemble.GradientBoostingClassifier(),\n",
    "     GaussianNB(),\n",
    "    KNeighborsClassifier(n_neighbors=4),\n",
    "    SVC(probability=True)\n",
    "]\n",
    "\n",
    "scores = []\n",
    "for name, clf in zip(names, classifiers):\n",
    "    clf.fit(x_train_sc, y_train)\n",
    "    score = clf.score(x_test_sc,y_test)\n",
    "    scores.append(score)"
   ]
  },
  {
   "cell_type": "code",
   "execution_count": 64,
   "id": "3476a6a2",
   "metadata": {},
   "outputs": [
    {
     "data": {
      "text/html": [
       "<div>\n",
       "<style scoped>\n",
       "    .dataframe tbody tr th:only-of-type {\n",
       "        vertical-align: middle;\n",
       "    }\n",
       "\n",
       "    .dataframe tbody tr th {\n",
       "        vertical-align: top;\n",
       "    }\n",
       "\n",
       "    .dataframe thead th {\n",
       "        text-align: right;\n",
       "    }\n",
       "</style>\n",
       "<table border=\"1\" class=\"dataframe\">\n",
       "  <thead>\n",
       "    <tr style=\"text-align: right;\">\n",
       "      <th></th>\n",
       "      <th>name</th>\n",
       "      <th>score</th>\n",
       "    </tr>\n",
       "  </thead>\n",
       "  <tbody>\n",
       "    <tr>\n",
       "      <th>0</th>\n",
       "      <td>Decision_Tree</td>\n",
       "      <td>0.798937</td>\n",
       "    </tr>\n",
       "    <tr>\n",
       "      <th>1</th>\n",
       "      <td>Random_Forest</td>\n",
       "      <td>0.839681</td>\n",
       "    </tr>\n",
       "    <tr>\n",
       "      <th>2</th>\n",
       "      <td>Gradient_Boosting</td>\n",
       "      <td>0.831709</td>\n",
       "    </tr>\n",
       "    <tr>\n",
       "      <th>3</th>\n",
       "      <td>Naive_Bayes</td>\n",
       "      <td>0.770593</td>\n",
       "    </tr>\n",
       "    <tr>\n",
       "      <th>4</th>\n",
       "      <td>K-Nearest Neighbor Classifier</td>\n",
       "      <td>0.814880</td>\n",
       "    </tr>\n",
       "    <tr>\n",
       "      <th>5</th>\n",
       "      <td>SVM Classifier</td>\n",
       "      <td>0.812223</td>\n",
       "    </tr>\n",
       "  </tbody>\n",
       "</table>\n",
       "</div>"
      ],
      "text/plain": [
       "                            name     score\n",
       "0                  Decision_Tree  0.798937\n",
       "1                  Random_Forest  0.839681\n",
       "2              Gradient_Boosting  0.831709\n",
       "3                    Naive_Bayes  0.770593\n",
       "4  K-Nearest Neighbor Classifier  0.814880\n",
       "5                 SVM Classifier  0.812223"
      ]
     },
     "execution_count": 64,
     "metadata": {},
     "output_type": "execute_result"
    }
   ],
   "source": [
    "df = pd.DataFrame()\n",
    "df['name'] = names\n",
    "df['score'] = scores\n",
    "df"
   ]
  },
  {
   "cell_type": "code",
   "execution_count": 65,
   "id": "67380755",
   "metadata": {},
   "outputs": [
    {
     "data": {
      "image/png": "[encoded data removed]",
      "text/plain": [
       "<Figure size 432x288 with 1 Axes>"
      ]
     },
     "metadata": {},
     "output_type": "display_data"
    }
   ],
   "source": [
    "sns.set(style=\"whitegrid\")\n",
    "ax = sns.barplot(y=\"name\", x=\"score\", data=df)"
   ]
  },
  {
   "cell_type": "markdown",
   "id": "f9162810",
   "metadata": {},
   "source": [
    "Pentru toti clasificatori RMSE>0, deci nici unul dintre ei nu se comporta perfect pe datele de train si test, astfel nu va avea loc fenomenul de overfitting.\n",
    "Dintre toti clasificatori Naive Bayes Classifier, are cele mai apropiate valori de RMSE si MAE, atat pentru datele de test cat si pentru cele de train.\n",
    "Deci consider ca Naive Bayes Classifier e cel mai mult clasificator pentru acest exemplu."
   ]
  },
  {
   "cell_type": "markdown",
   "id": "57d3c12a",
   "metadata": {},
   "source": [
    "# Fine-tune  the model"
   ]
  },
  {
   "cell_type": "code",
   "execution_count": 66,
   "id": "a70fbb92",
   "metadata": {},
   "outputs": [
    {
     "data": {
      "text/html": [
       "<style>#sk-container-id-1 {color: black;background-color: white;}#sk-container-id-1 pre{padding: 0;}#sk-container-id-1 div.sk-toggleable {background-color: white;}#sk-container-id-1 label.sk-toggleable__label {cursor: pointer;display: block;width: 100%;margin-bottom: 0;padding: 0.3em;box-sizing: border-box;text-align: center;}#sk-container-id-1 label.sk-toggleable__label-arrow:before {content: \"▸\";float: left;margin-right: 0.25em;color: #696969;}#sk-container-id-1 label.sk-toggleable__label-arrow:hover:before {color: black;}#sk-container-id-1 div.sk-estimator:hover label.sk-toggleable__label-arrow:before {color: black;}#sk-container-id-1 div.sk-toggleable__content {max-height: 0;max-width: 0;overflow: hidden;text-align: left;background-color: #f0f8ff;}#sk-container-id-1 div.sk-toggleable__content pre {margin: 0.2em;color: black;border-radius: 0.25em;background-color: #f0f8ff;}#sk-container-id-1 input.sk-toggleable__control:checked~div.sk-toggleable__content {max-height: 200px;max-width: 100%;overflow: auto;}#sk-container-id-1 input.sk-toggleable__control:checked~label.sk-toggleable__label-arrow:before {content: \"▾\";}#sk-container-id-1 div.sk-estimator input.sk-toggleable__control:checked~label.sk-toggleable__label {background-color: #d4ebff;}#sk-container-id-1 div.sk-label input.sk-toggleable__control:checked~label.sk-toggleable__label {background-color: #d4ebff;}#sk-container-id-1 input.sk-hidden--visually {border: 0;clip: rect(1px 1px 1px 1px);clip: rect(1px, 1px, 1px, 1px);height: 1px;margin: -1px;overflow: hidden;padding: 0;position: absolute;width: 1px;}#sk-container-id-1 div.sk-estimator {font-family: monospace;background-color: #f0f8ff;border: 1px dotted black;border-radius: 0.25em;box-sizing: border-box;margin-bottom: 0.5em;}#sk-container-id-1 div.sk-estimator:hover {background-color: #d4ebff;}#sk-container-id-1 div.sk-parallel-item::after {content: \"\";width: 100%;border-bottom: 1px solid gray;flex-grow: 1;}#sk-container-id-1 div.sk-label:hover label.sk-toggleable__label {background-color: #d4ebff;}#sk-container-id-1 div.sk-serial::before {content: \"\";position: absolute;border-left: 1px solid gray;box-sizing: border-box;top: 0;bottom: 0;left: 50%;z-index: 0;}#sk-container-id-1 div.sk-serial {display: flex;flex-direction: column;align-items: center;background-color: white;padding-right: 0.2em;padding-left: 0.2em;position: relative;}#sk-container-id-1 div.sk-item {position: relative;z-index: 1;}#sk-container-id-1 div.sk-parallel {display: flex;align-items: stretch;justify-content: center;background-color: white;position: relative;}#sk-container-id-1 div.sk-item::before, #sk-container-id-1 div.sk-parallel-item::before {content: \"\";position: absolute;border-left: 1px solid gray;box-sizing: border-box;top: 0;bottom: 0;left: 50%;z-index: -1;}#sk-container-id-1 div.sk-parallel-item {display: flex;flex-direction: column;z-index: 1;position: relative;background-color: white;}#sk-container-id-1 div.sk-parallel-item:first-child::after {align-self: flex-end;width: 50%;}#sk-container-id-1 div.sk-parallel-item:last-child::after {align-self: flex-start;width: 50%;}#sk-container-id-1 div.sk-parallel-item:only-child::after {width: 0;}#sk-container-id-1 div.sk-dashed-wrapped {border: 1px dashed gray;margin: 0 0.4em 0.5em 0.4em;box-sizing: border-box;padding-bottom: 0.4em;background-color: white;}#sk-container-id-1 div.sk-label label {font-family: monospace;font-weight: bold;display: inline-block;line-height: 1.2em;}#sk-container-id-1 div.sk-label-container {text-align: center;}#sk-container-id-1 div.sk-container {/* jupyter's `normalize.less` sets `[hidden] { display: none; }` but bootstrap.min.css set `[hidden] { display: none !important; }` so we also need the `!important` here to be able to override the default hidden behavior on the sphinx rendered scikit-learn.org. See: https://github.com/scikit-learn/scikit-learn/issues/21755 */display: inline-block !important;position: relative;}#sk-container-id-1 div.sk-text-repr-fallback {display: none;}</style><div id=\"sk-container-id-1\" class=\"sk-top-container\"><div class=\"sk-text-repr-fallback\"><pre>GridSearchCV(cv=5, estimator=RandomForestClassifier(),\n",
       "             param_grid=[{&#x27;max_features&#x27;: [2, 4, 6, 8],\n",
       "                          &#x27;n_estimators&#x27;: [3, 10, 30]},\n",
       "                         {&#x27;bootstrap&#x27;: [False], &#x27;max_features&#x27;: [2, 3, 4],\n",
       "                          &#x27;n_estimators&#x27;: [3, 10]}],\n",
       "             return_train_score=True, scoring=&#x27;neg_mean_squared_error&#x27;)</pre><b>In a Jupyter environment, please rerun this cell to show the HTML representation or trust the notebook. <br />On GitHub, the HTML representation is unable to render, please try loading this page with nbviewer.org.</b></div><div class=\"sk-container\" hidden><div class=\"sk-item sk-dashed-wrapped\"><div class=\"sk-label-container\"><div class=\"sk-label sk-toggleable\"><input class=\"sk-toggleable__control sk-hidden--visually\" id=\"sk-estimator-id-1\" type=\"checkbox\" ><label for=\"sk-estimator-id-1\" class=\"sk-toggleable__label sk-toggleable__label-arrow\">GridSearchCV</label><div class=\"sk-toggleable__content\"><pre>GridSearchCV(cv=5, estimator=RandomForestClassifier(),\n",
       "             param_grid=[{&#x27;max_features&#x27;: [2, 4, 6, 8],\n",
       "                          &#x27;n_estimators&#x27;: [3, 10, 30]},\n",
       "                         {&#x27;bootstrap&#x27;: [False], &#x27;max_features&#x27;: [2, 3, 4],\n",
       "                          &#x27;n_estimators&#x27;: [3, 10]}],\n",
       "             return_train_score=True, scoring=&#x27;neg_mean_squared_error&#x27;)</pre></div></div></div><div class=\"sk-parallel\"><div class=\"sk-parallel-item\"><div class=\"sk-item\"><div class=\"sk-label-container\"><div class=\"sk-label sk-toggleable\"><input class=\"sk-toggleable__control sk-hidden--visually\" id=\"sk-estimator-id-2\" type=\"checkbox\" ><label for=\"sk-estimator-id-2\" class=\"sk-toggleable__label sk-toggleable__label-arrow\">estimator: RandomForestClassifier</label><div class=\"sk-toggleable__content\"><pre>RandomForestClassifier()</pre></div></div></div><div class=\"sk-serial\"><div class=\"sk-item\"><div class=\"sk-estimator sk-toggleable\"><input class=\"sk-toggleable__control sk-hidden--visually\" id=\"sk-estimator-id-3\" type=\"checkbox\" ><label for=\"sk-estimator-id-3\" class=\"sk-toggleable__label sk-toggleable__label-arrow\">RandomForestClassifier</label><div class=\"sk-toggleable__content\"><pre>RandomForestClassifier()</pre></div></div></div></div></div></div></div></div></div></div>"
      ],
      "text/plain": [
       "GridSearchCV(cv=5, estimator=RandomForestClassifier(),\n",
       "             param_grid=[{'max_features': [2, 4, 6, 8],\n",
       "                          'n_estimators': [3, 10, 30]},\n",
       "                         {'bootstrap': [False], 'max_features': [2, 3, 4],\n",
       "                          'n_estimators': [3, 10]}],\n",
       "             return_train_score=True, scoring='neg_mean_squared_error')"
      ]
     },
     "execution_count": 66,
     "metadata": {},
     "output_type": "execute_result"
    }
   ],
   "source": [
    "# gasim cel mai bun model de clasificator pentru datele de train si set\n",
    "param_grid = [\n",
    "    # try 12 (3×4) combinations of hyperparameters\n",
    "    {'n_estimators': [3, 10, 30], 'max_features': [2, 4, 6, 8]},\n",
    "    # then try 6 (2×3) combinations with bootstrap set as False\n",
    "    {'bootstrap': [False], 'n_estimators': [3, 10], 'max_features': [2, 3, 4]},\n",
    "  ]\n",
    "\n",
    "forest_clf = ensemble.RandomForestClassifier()\n",
    "# train across 5 folds, that's a total of (12+6)*5=90 rounds of training \n",
    "grid_search = GridSearchCV(forest_clf, param_grid, cv=5,\n",
    "                           scoring='neg_mean_squared_error', return_train_score=True)\n",
    "grid_search.fit(x_train_sc, y_train)"
   ]
  },
  {
   "cell_type": "code",
   "execution_count": 67,
   "id": "25e6aa16",
   "metadata": {},
   "outputs": [
    {
     "data": {
      "text/plain": [
       "{'max_features': 8, 'n_estimators': 30}"
      ]
     },
     "execution_count": 67,
     "metadata": {},
     "output_type": "execute_result"
    }
   ],
   "source": [
    "grid_search.best_params_"
   ]
  },
  {
   "cell_type": "code",
   "execution_count": 68,
   "id": "32248177",
   "metadata": {},
   "outputs": [
    {
     "data": {
      "text/html": [
       "<style>#sk-container-id-2 {color: black;background-color: white;}#sk-container-id-2 pre{padding: 0;}#sk-container-id-2 div.sk-toggleable {background-color: white;}#sk-container-id-2 label.sk-toggleable__label {cursor: pointer;display: block;width: 100%;margin-bottom: 0;padding: 0.3em;box-sizing: border-box;text-align: center;}#sk-container-id-2 label.sk-toggleable__label-arrow:before {content: \"▸\";float: left;margin-right: 0.25em;color: #696969;}#sk-container-id-2 label.sk-toggleable__label-arrow:hover:before {color: black;}#sk-container-id-2 div.sk-estimator:hover label.sk-toggleable__label-arrow:before {color: black;}#sk-container-id-2 div.sk-toggleable__content {max-height: 0;max-width: 0;overflow: hidden;text-align: left;background-color: #f0f8ff;}#sk-container-id-2 div.sk-toggleable__content pre {margin: 0.2em;color: black;border-radius: 0.25em;background-color: #f0f8ff;}#sk-container-id-2 input.sk-toggleable__control:checked~div.sk-toggleable__content {max-height: 200px;max-width: 100%;overflow: auto;}#sk-container-id-2 input.sk-toggleable__control:checked~label.sk-toggleable__label-arrow:before {content: \"▾\";}#sk-container-id-2 div.sk-estimator input.sk-toggleable__control:checked~label.sk-toggleable__label {background-color: #d4ebff;}#sk-container-id-2 div.sk-label input.sk-toggleable__control:checked~label.sk-toggleable__label {background-color: #d4ebff;}#sk-container-id-2 input.sk-hidden--visually {border: 0;clip: rect(1px 1px 1px 1px);clip: rect(1px, 1px, 1px, 1px);height: 1px;margin: -1px;overflow: hidden;padding: 0;position: absolute;width: 1px;}#sk-container-id-2 div.sk-estimator {font-family: monospace;background-color: #f0f8ff;border: 1px dotted black;border-radius: 0.25em;box-sizing: border-box;margin-bottom: 0.5em;}#sk-container-id-2 div.sk-estimator:hover {background-color: #d4ebff;}#sk-container-id-2 div.sk-parallel-item::after {content: \"\";width: 100%;border-bottom: 1px solid gray;flex-grow: 1;}#sk-container-id-2 div.sk-label:hover label.sk-toggleable__label {background-color: #d4ebff;}#sk-container-id-2 div.sk-serial::before {content: \"\";position: absolute;border-left: 1px solid gray;box-sizing: border-box;top: 0;bottom: 0;left: 50%;z-index: 0;}#sk-container-id-2 div.sk-serial {display: flex;flex-direction: column;align-items: center;background-color: white;padding-right: 0.2em;padding-left: 0.2em;position: relative;}#sk-container-id-2 div.sk-item {position: relative;z-index: 1;}#sk-container-id-2 div.sk-parallel {display: flex;align-items: stretch;justify-content: center;background-color: white;position: relative;}#sk-container-id-2 div.sk-item::before, #sk-container-id-2 div.sk-parallel-item::before {content: \"\";position: absolute;border-left: 1px solid gray;box-sizing: border-box;top: 0;bottom: 0;left: 50%;z-index: -1;}#sk-container-id-2 div.sk-parallel-item {display: flex;flex-direction: column;z-index: 1;position: relative;background-color: white;}#sk-container-id-2 div.sk-parallel-item:first-child::after {align-self: flex-end;width: 50%;}#sk-container-id-2 div.sk-parallel-item:last-child::after {align-self: flex-start;width: 50%;}#sk-container-id-2 div.sk-parallel-item:only-child::after {width: 0;}#sk-container-id-2 div.sk-dashed-wrapped {border: 1px dashed gray;margin: 0 0.4em 0.5em 0.4em;box-sizing: border-box;padding-bottom: 0.4em;background-color: white;}#sk-container-id-2 div.sk-label label {font-family: monospace;font-weight: bold;display: inline-block;line-height: 1.2em;}#sk-container-id-2 div.sk-label-container {text-align: center;}#sk-container-id-2 div.sk-container {/* jupyter's `normalize.less` sets `[hidden] { display: none; }` but bootstrap.min.css set `[hidden] { display: none !important; }` so we also need the `!important` here to be able to override the default hidden behavior on the sphinx rendered scikit-learn.org. See: https://github.com/scikit-learn/scikit-learn/issues/21755 */display: inline-block !important;position: relative;}#sk-container-id-2 div.sk-text-repr-fallback {display: none;}</style><div id=\"sk-container-id-2\" class=\"sk-top-container\"><div class=\"sk-text-repr-fallback\"><pre>RandomForestClassifier(max_features=8, n_estimators=30)</pre><b>In a Jupyter environment, please rerun this cell to show the HTML representation or trust the notebook. <br />On GitHub, the HTML representation is unable to render, please try loading this page with nbviewer.org.</b></div><div class=\"sk-container\" hidden><div class=\"sk-item\"><div class=\"sk-estimator sk-toggleable\"><input class=\"sk-toggleable__control sk-hidden--visually\" id=\"sk-estimator-id-4\" type=\"checkbox\" checked><label for=\"sk-estimator-id-4\" class=\"sk-toggleable__label sk-toggleable__label-arrow\">RandomForestClassifier</label><div class=\"sk-toggleable__content\"><pre>RandomForestClassifier(max_features=8, n_estimators=30)</pre></div></div></div></div></div>"
      ],
      "text/plain": [
       "RandomForestClassifier(max_features=8, n_estimators=30)"
      ]
     },
     "execution_count": 68,
     "metadata": {},
     "output_type": "execute_result"
    }
   ],
   "source": [
    "grid_search.best_estimator_"
   ]
  },
  {
   "cell_type": "code",
   "execution_count": 69,
   "id": "64122127",
   "metadata": {},
   "outputs": [
    {
     "name": "stdout",
     "output_type": "stream",
     "text": [
      "0.43465595921290584 {'max_features': 2, 'n_estimators': 3}\n",
      "0.4040218627243419 {'max_features': 2, 'n_estimators': 10}\n",
      "0.3852197313449782 {'max_features': 2, 'n_estimators': 30}\n",
      "0.4222494211285681 {'max_features': 4, 'n_estimators': 3}\n",
      "0.3971102705784536 {'max_features': 4, 'n_estimators': 10}\n",
      "0.38088316093164926 {'max_features': 4, 'n_estimators': 30}\n",
      "0.42382010015795135 {'max_features': 6, 'n_estimators': 3}\n",
      "0.39007623413704434 {'max_features': 6, 'n_estimators': 10}\n",
      "0.3803012153496965 {'max_features': 6, 'n_estimators': 30}\n",
      "0.4118940396379366 {'max_features': 8, 'n_estimators': 3}\n",
      "0.39121017907027283 {'max_features': 8, 'n_estimators': 10}\n",
      "0.3785500108862384 {'max_features': 8, 'n_estimators': 30}\n",
      "0.4240813144201358 {'bootstrap': False, 'max_features': 2, 'n_estimators': 3}\n",
      "0.3954335131781416 {'bootstrap': False, 'max_features': 2, 'n_estimators': 10}\n",
      "0.4230354896112776 {'bootstrap': False, 'max_features': 3, 'n_estimators': 3}\n",
      "0.39290496034369427 {'bootstrap': False, 'max_features': 3, 'n_estimators': 10}\n",
      "0.4105475370492279 {'bootstrap': False, 'max_features': 4, 'n_estimators': 3}\n",
      "0.3912101790702728 {'bootstrap': False, 'max_features': 4, 'n_estimators': 10}\n"
     ]
    }
   ],
   "source": [
    "cvres = grid_search.cv_results_\n",
    "for mean_score, params in zip(cvres[\"mean_test_score\"], cvres[\"params\"]):\n",
    "    print(np.sqrt(-mean_score), params)"
   ]
  },
  {
   "cell_type": "code",
   "execution_count": 70,
   "id": "89a6396b",
   "metadata": {},
   "outputs": [
    {
     "data": {
      "text/html": [
       "<div>\n",
       "<style scoped>\n",
       "    .dataframe tbody tr th:only-of-type {\n",
       "        vertical-align: middle;\n",
       "    }\n",
       "\n",
       "    .dataframe tbody tr th {\n",
       "        vertical-align: top;\n",
       "    }\n",
       "\n",
       "    .dataframe thead th {\n",
       "        text-align: right;\n",
       "    }\n",
       "</style>\n",
       "<table border=\"1\" class=\"dataframe\">\n",
       "  <thead>\n",
       "    <tr style=\"text-align: right;\">\n",
       "      <th></th>\n",
       "      <th>mean_fit_time</th>\n",
       "      <th>std_fit_time</th>\n",
       "      <th>mean_score_time</th>\n",
       "      <th>std_score_time</th>\n",
       "      <th>param_max_features</th>\n",
       "      <th>param_n_estimators</th>\n",
       "      <th>param_bootstrap</th>\n",
       "      <th>params</th>\n",
       "      <th>split0_test_score</th>\n",
       "      <th>split1_test_score</th>\n",
       "      <th>...</th>\n",
       "      <th>mean_test_score</th>\n",
       "      <th>std_test_score</th>\n",
       "      <th>rank_test_score</th>\n",
       "      <th>split0_train_score</th>\n",
       "      <th>split1_train_score</th>\n",
       "      <th>split2_train_score</th>\n",
       "      <th>split3_train_score</th>\n",
       "      <th>split4_train_score</th>\n",
       "      <th>mean_train_score</th>\n",
       "      <th>std_train_score</th>\n",
       "    </tr>\n",
       "  </thead>\n",
       "  <tbody>\n",
       "    <tr>\n",
       "      <th>0</th>\n",
       "      <td>0.011396</td>\n",
       "      <td>0.000800</td>\n",
       "      <td>0.001371</td>\n",
       "      <td>0.000146</td>\n",
       "      <td>2</td>\n",
       "      <td>3</td>\n",
       "      <td>NaN</td>\n",
       "      <td>{'max_features': 2, 'n_estimators': 3}</td>\n",
       "      <td>-0.200443</td>\n",
       "      <td>-0.183832</td>\n",
       "      <td>...</td>\n",
       "      <td>-0.188926</td>\n",
       "      <td>0.008186</td>\n",
       "      <td>18</td>\n",
       "      <td>-0.033499</td>\n",
       "      <td>-0.037375</td>\n",
       "      <td>-0.037375</td>\n",
       "      <td>-0.035991</td>\n",
       "      <td>-0.029623</td>\n",
       "      <td>-0.034773</td>\n",
       "      <td>0.002938</td>\n",
       "    </tr>\n",
       "    <tr>\n",
       "      <th>1</th>\n",
       "      <td>0.031564</td>\n",
       "      <td>0.001109</td>\n",
       "      <td>0.002625</td>\n",
       "      <td>0.000136</td>\n",
       "      <td>2</td>\n",
       "      <td>10</td>\n",
       "      <td>NaN</td>\n",
       "      <td>{'max_features': 2, 'n_estimators': 10}</td>\n",
       "      <td>-0.172757</td>\n",
       "      <td>-0.149502</td>\n",
       "      <td>...</td>\n",
       "      <td>-0.163234</td>\n",
       "      <td>0.008065</td>\n",
       "      <td>11</td>\n",
       "      <td>-0.009690</td>\n",
       "      <td>-0.008583</td>\n",
       "      <td>-0.009413</td>\n",
       "      <td>-0.008859</td>\n",
       "      <td>-0.008859</td>\n",
       "      <td>-0.009081</td>\n",
       "      <td>0.000407</td>\n",
       "    </tr>\n",
       "    <tr>\n",
       "      <th>2</th>\n",
       "      <td>0.094122</td>\n",
       "      <td>0.006098</td>\n",
       "      <td>0.006868</td>\n",
       "      <td>0.000748</td>\n",
       "      <td>2</td>\n",
       "      <td>30</td>\n",
       "      <td>NaN</td>\n",
       "      <td>{'max_features': 2, 'n_estimators': 30}</td>\n",
       "      <td>-0.152824</td>\n",
       "      <td>-0.128461</td>\n",
       "      <td>...</td>\n",
       "      <td>-0.148394</td>\n",
       "      <td>0.010028</td>\n",
       "      <td>4</td>\n",
       "      <td>-0.001107</td>\n",
       "      <td>-0.001661</td>\n",
       "      <td>-0.001384</td>\n",
       "      <td>-0.001384</td>\n",
       "      <td>-0.000831</td>\n",
       "      <td>-0.001274</td>\n",
       "      <td>0.000282</td>\n",
       "    </tr>\n",
       "    <tr>\n",
       "      <th>3</th>\n",
       "      <td>0.012847</td>\n",
       "      <td>0.000635</td>\n",
       "      <td>0.001162</td>\n",
       "      <td>0.000032</td>\n",
       "      <td>4</td>\n",
       "      <td>3</td>\n",
       "      <td>NaN</td>\n",
       "      <td>{'max_features': 4, 'n_estimators': 3}</td>\n",
       "      <td>-0.183832</td>\n",
       "      <td>-0.184939</td>\n",
       "      <td>...</td>\n",
       "      <td>-0.178295</td>\n",
       "      <td>0.010782</td>\n",
       "      <td>14</td>\n",
       "      <td>-0.037099</td>\n",
       "      <td>-0.029623</td>\n",
       "      <td>-0.033499</td>\n",
       "      <td>-0.037652</td>\n",
       "      <td>-0.033223</td>\n",
       "      <td>-0.034219</td>\n",
       "      <td>0.002923</td>\n",
       "    </tr>\n",
       "    <tr>\n",
       "      <th>4</th>\n",
       "      <td>0.041015</td>\n",
       "      <td>0.001678</td>\n",
       "      <td>0.002568</td>\n",
       "      <td>0.000133</td>\n",
       "      <td>4</td>\n",
       "      <td>10</td>\n",
       "      <td>NaN</td>\n",
       "      <td>{'max_features': 4, 'n_estimators': 10}</td>\n",
       "      <td>-0.157254</td>\n",
       "      <td>-0.146179</td>\n",
       "      <td>...</td>\n",
       "      <td>-0.157697</td>\n",
       "      <td>0.006130</td>\n",
       "      <td>10</td>\n",
       "      <td>-0.007752</td>\n",
       "      <td>-0.009967</td>\n",
       "      <td>-0.008306</td>\n",
       "      <td>-0.007752</td>\n",
       "      <td>-0.009136</td>\n",
       "      <td>-0.008583</td>\n",
       "      <td>0.000858</td>\n",
       "    </tr>\n",
       "    <tr>\n",
       "      <th>5</th>\n",
       "      <td>0.119192</td>\n",
       "      <td>0.007713</td>\n",
       "      <td>0.006021</td>\n",
       "      <td>0.000121</td>\n",
       "      <td>4</td>\n",
       "      <td>30</td>\n",
       "      <td>NaN</td>\n",
       "      <td>{'max_features': 4, 'n_estimators': 30}</td>\n",
       "      <td>-0.137320</td>\n",
       "      <td>-0.147287</td>\n",
       "      <td>...</td>\n",
       "      <td>-0.145072</td>\n",
       "      <td>0.004023</td>\n",
       "      <td>3</td>\n",
       "      <td>-0.001661</td>\n",
       "      <td>-0.001107</td>\n",
       "      <td>-0.000554</td>\n",
       "      <td>-0.000554</td>\n",
       "      <td>-0.001384</td>\n",
       "      <td>-0.001052</td>\n",
       "      <td>0.000443</td>\n",
       "    </tr>\n",
       "    <tr>\n",
       "      <th>6</th>\n",
       "      <td>0.016592</td>\n",
       "      <td>0.001383</td>\n",
       "      <td>0.001355</td>\n",
       "      <td>0.000206</td>\n",
       "      <td>6</td>\n",
       "      <td>3</td>\n",
       "      <td>NaN</td>\n",
       "      <td>{'max_features': 6, 'n_estimators': 3}</td>\n",
       "      <td>-0.174972</td>\n",
       "      <td>-0.161683</td>\n",
       "      <td>...</td>\n",
       "      <td>-0.179623</td>\n",
       "      <td>0.013073</td>\n",
       "      <td>16</td>\n",
       "      <td>-0.032946</td>\n",
       "      <td>-0.028516</td>\n",
       "      <td>-0.032669</td>\n",
       "      <td>-0.036822</td>\n",
       "      <td>-0.026855</td>\n",
       "      <td>-0.031561</td>\n",
       "      <td>0.003528</td>\n",
       "    </tr>\n",
       "    <tr>\n",
       "      <th>7</th>\n",
       "      <td>0.050480</td>\n",
       "      <td>0.002232</td>\n",
       "      <td>0.002501</td>\n",
       "      <td>0.000226</td>\n",
       "      <td>6</td>\n",
       "      <td>10</td>\n",
       "      <td>NaN</td>\n",
       "      <td>{'max_features': 6, 'n_estimators': 10}</td>\n",
       "      <td>-0.155039</td>\n",
       "      <td>-0.137320</td>\n",
       "      <td>...</td>\n",
       "      <td>-0.152159</td>\n",
       "      <td>0.008624</td>\n",
       "      <td>5</td>\n",
       "      <td>-0.007475</td>\n",
       "      <td>-0.005814</td>\n",
       "      <td>-0.009967</td>\n",
       "      <td>-0.008583</td>\n",
       "      <td>-0.007752</td>\n",
       "      <td>-0.007918</td>\n",
       "      <td>0.001363</td>\n",
       "    </tr>\n",
       "    <tr>\n",
       "      <th>8</th>\n",
       "      <td>0.144995</td>\n",
       "      <td>0.006483</td>\n",
       "      <td>0.005923</td>\n",
       "      <td>0.000212</td>\n",
       "      <td>6</td>\n",
       "      <td>30</td>\n",
       "      <td>NaN</td>\n",
       "      <td>{'max_features': 6, 'n_estimators': 30}</td>\n",
       "      <td>-0.153931</td>\n",
       "      <td>-0.137320</td>\n",
       "      <td>...</td>\n",
       "      <td>-0.144629</td>\n",
       "      <td>0.009945</td>\n",
       "      <td>2</td>\n",
       "      <td>-0.000831</td>\n",
       "      <td>-0.000831</td>\n",
       "      <td>-0.000831</td>\n",
       "      <td>-0.000277</td>\n",
       "      <td>-0.001107</td>\n",
       "      <td>-0.000775</td>\n",
       "      <td>0.000271</td>\n",
       "    </tr>\n",
       "    <tr>\n",
       "      <th>9</th>\n",
       "      <td>0.017729</td>\n",
       "      <td>0.001100</td>\n",
       "      <td>0.001170</td>\n",
       "      <td>0.000023</td>\n",
       "      <td>8</td>\n",
       "      <td>3</td>\n",
       "      <td>NaN</td>\n",
       "      <td>{'max_features': 8, 'n_estimators': 3}</td>\n",
       "      <td>-0.173865</td>\n",
       "      <td>-0.152824</td>\n",
       "      <td>...</td>\n",
       "      <td>-0.169657</td>\n",
       "      <td>0.011665</td>\n",
       "      <td>13</td>\n",
       "      <td>-0.029070</td>\n",
       "      <td>-0.034330</td>\n",
       "      <td>-0.030454</td>\n",
       "      <td>-0.027685</td>\n",
       "      <td>-0.037929</td>\n",
       "      <td>-0.031894</td>\n",
       "      <td>0.003745</td>\n",
       "    </tr>\n",
       "    <tr>\n",
       "      <th>10</th>\n",
       "      <td>0.060424</td>\n",
       "      <td>0.002441</td>\n",
       "      <td>0.002701</td>\n",
       "      <td>0.000200</td>\n",
       "      <td>8</td>\n",
       "      <td>10</td>\n",
       "      <td>NaN</td>\n",
       "      <td>{'max_features': 8, 'n_estimators': 10}</td>\n",
       "      <td>-0.161683</td>\n",
       "      <td>-0.150609</td>\n",
       "      <td>...</td>\n",
       "      <td>-0.153045</td>\n",
       "      <td>0.010398</td>\n",
       "      <td>7</td>\n",
       "      <td>-0.006921</td>\n",
       "      <td>-0.009690</td>\n",
       "      <td>-0.008583</td>\n",
       "      <td>-0.010244</td>\n",
       "      <td>-0.009413</td>\n",
       "      <td>-0.008970</td>\n",
       "      <td>0.001156</td>\n",
       "    </tr>\n",
       "    <tr>\n",
       "      <th>11</th>\n",
       "      <td>0.175281</td>\n",
       "      <td>0.006098</td>\n",
       "      <td>0.006300</td>\n",
       "      <td>0.000733</td>\n",
       "      <td>8</td>\n",
       "      <td>30</td>\n",
       "      <td>NaN</td>\n",
       "      <td>{'max_features': 8, 'n_estimators': 30}</td>\n",
       "      <td>-0.149502</td>\n",
       "      <td>-0.137320</td>\n",
       "      <td>...</td>\n",
       "      <td>-0.143300</td>\n",
       "      <td>0.006249</td>\n",
       "      <td>1</td>\n",
       "      <td>-0.000831</td>\n",
       "      <td>-0.001107</td>\n",
       "      <td>-0.000554</td>\n",
       "      <td>-0.001107</td>\n",
       "      <td>-0.001661</td>\n",
       "      <td>-0.001052</td>\n",
       "      <td>0.000367</td>\n",
       "    </tr>\n",
       "    <tr>\n",
       "      <th>12</th>\n",
       "      <td>0.013517</td>\n",
       "      <td>0.001391</td>\n",
       "      <td>0.001292</td>\n",
       "      <td>0.000051</td>\n",
       "      <td>2</td>\n",
       "      <td>3</td>\n",
       "      <td>False</td>\n",
       "      <td>{'bootstrap': False, 'max_features': 2, 'n_est...</td>\n",
       "      <td>-0.181617</td>\n",
       "      <td>-0.176080</td>\n",
       "      <td>...</td>\n",
       "      <td>-0.179845</td>\n",
       "      <td>0.005885</td>\n",
       "      <td>17</td>\n",
       "      <td>-0.000554</td>\n",
       "      <td>-0.000277</td>\n",
       "      <td>-0.000277</td>\n",
       "      <td>-0.000277</td>\n",
       "      <td>-0.000554</td>\n",
       "      <td>-0.000388</td>\n",
       "      <td>0.000136</td>\n",
       "    </tr>\n",
       "    <tr>\n",
       "      <th>13</th>\n",
       "      <td>0.038026</td>\n",
       "      <td>0.003094</td>\n",
       "      <td>0.002603</td>\n",
       "      <td>0.000190</td>\n",
       "      <td>2</td>\n",
       "      <td>10</td>\n",
       "      <td>False</td>\n",
       "      <td>{'bootstrap': False, 'max_features': 2, 'n_est...</td>\n",
       "      <td>-0.162791</td>\n",
       "      <td>-0.143965</td>\n",
       "      <td>...</td>\n",
       "      <td>-0.156368</td>\n",
       "      <td>0.007780</td>\n",
       "      <td>9</td>\n",
       "      <td>-0.000554</td>\n",
       "      <td>-0.000277</td>\n",
       "      <td>-0.000277</td>\n",
       "      <td>-0.000277</td>\n",
       "      <td>-0.000554</td>\n",
       "      <td>-0.000388</td>\n",
       "      <td>0.000136</td>\n",
       "    </tr>\n",
       "    <tr>\n",
       "      <th>14</th>\n",
       "      <td>0.014518</td>\n",
       "      <td>0.000600</td>\n",
       "      <td>0.001306</td>\n",
       "      <td>0.000117</td>\n",
       "      <td>3</td>\n",
       "      <td>3</td>\n",
       "      <td>False</td>\n",
       "      <td>{'bootstrap': False, 'max_features': 3, 'n_est...</td>\n",
       "      <td>-0.178295</td>\n",
       "      <td>-0.166113</td>\n",
       "      <td>...</td>\n",
       "      <td>-0.178959</td>\n",
       "      <td>0.010773</td>\n",
       "      <td>15</td>\n",
       "      <td>-0.000554</td>\n",
       "      <td>-0.000277</td>\n",
       "      <td>-0.000277</td>\n",
       "      <td>-0.000277</td>\n",
       "      <td>-0.000554</td>\n",
       "      <td>-0.000388</td>\n",
       "      <td>0.000136</td>\n",
       "    </tr>\n",
       "    <tr>\n",
       "      <th>15</th>\n",
       "      <td>0.047972</td>\n",
       "      <td>0.004299</td>\n",
       "      <td>0.002636</td>\n",
       "      <td>0.000280</td>\n",
       "      <td>3</td>\n",
       "      <td>10</td>\n",
       "      <td>False</td>\n",
       "      <td>{'bootstrap': False, 'max_features': 3, 'n_est...</td>\n",
       "      <td>-0.165006</td>\n",
       "      <td>-0.142857</td>\n",
       "      <td>...</td>\n",
       "      <td>-0.154374</td>\n",
       "      <td>0.009040</td>\n",
       "      <td>8</td>\n",
       "      <td>-0.000554</td>\n",
       "      <td>-0.000277</td>\n",
       "      <td>-0.000277</td>\n",
       "      <td>-0.000277</td>\n",
       "      <td>-0.000554</td>\n",
       "      <td>-0.000388</td>\n",
       "      <td>0.000136</td>\n",
       "    </tr>\n",
       "    <tr>\n",
       "      <th>16</th>\n",
       "      <td>0.016171</td>\n",
       "      <td>0.000673</td>\n",
       "      <td>0.001146</td>\n",
       "      <td>0.000042</td>\n",
       "      <td>4</td>\n",
       "      <td>3</td>\n",
       "      <td>False</td>\n",
       "      <td>{'bootstrap': False, 'max_features': 4, 'n_est...</td>\n",
       "      <td>-0.178295</td>\n",
       "      <td>-0.170543</td>\n",
       "      <td>...</td>\n",
       "      <td>-0.168549</td>\n",
       "      <td>0.006396</td>\n",
       "      <td>12</td>\n",
       "      <td>-0.000554</td>\n",
       "      <td>-0.000277</td>\n",
       "      <td>-0.000277</td>\n",
       "      <td>-0.000277</td>\n",
       "      <td>-0.000554</td>\n",
       "      <td>-0.000388</td>\n",
       "      <td>0.000136</td>\n",
       "    </tr>\n",
       "    <tr>\n",
       "      <th>17</th>\n",
       "      <td>0.056489</td>\n",
       "      <td>0.002116</td>\n",
       "      <td>0.002675</td>\n",
       "      <td>0.000175</td>\n",
       "      <td>4</td>\n",
       "      <td>10</td>\n",
       "      <td>False</td>\n",
       "      <td>{'bootstrap': False, 'max_features': 4, 'n_est...</td>\n",
       "      <td>-0.153931</td>\n",
       "      <td>-0.145072</td>\n",
       "      <td>...</td>\n",
       "      <td>-0.153045</td>\n",
       "      <td>0.004719</td>\n",
       "      <td>6</td>\n",
       "      <td>-0.000554</td>\n",
       "      <td>-0.000277</td>\n",
       "      <td>-0.000277</td>\n",
       "      <td>-0.000277</td>\n",
       "      <td>-0.000554</td>\n",
       "      <td>-0.000388</td>\n",
       "      <td>0.000136</td>\n",
       "    </tr>\n",
       "  </tbody>\n",
       "</table>\n",
       "<p>18 rows × 23 columns</p>\n",
       "</div>"
      ],
      "text/plain": [
       "    mean_fit_time  std_fit_time  mean_score_time  std_score_time  \\\n",
       "0        0.011396      0.000800         0.001371        0.000146   \n",
       "1        0.031564      0.001109         0.002625        0.000136   \n",
       "2        0.094122      0.006098         0.006868        0.000748   \n",
       "3        0.012847      0.000635         0.001162        0.000032   \n",
       "4        0.041015      0.001678         0.002568        0.000133   \n",
       "5        0.119192      0.007713         0.006021        0.000121   \n",
       "6        0.016592      0.001383         0.001355        0.000206   \n",
       "7        0.050480      0.002232         0.002501        0.000226   \n",
       "8        0.144995      0.006483         0.005923        0.000212   \n",
       "9        0.017729      0.001100         0.001170        0.000023   \n",
       "10       0.060424      0.002441         0.002701        0.000200   \n",
       "11       0.175281      0.006098         0.006300        0.000733   \n",
       "12       0.013517      0.001391         0.001292        0.000051   \n",
       "13       0.038026      0.003094         0.002603        0.000190   \n",
       "14       0.014518      0.000600         0.001306        0.000117   \n",
       "15       0.047972      0.004299         0.002636        0.000280   \n",
       "16       0.016171      0.000673         0.001146        0.000042   \n",
       "17       0.056489      0.002116         0.002675        0.000175   \n",
       "\n",
       "   param_max_features param_n_estimators param_bootstrap  \\\n",
       "0                   2                  3             NaN   \n",
       "1                   2                 10             NaN   \n",
       "2                   2                 30             NaN   \n",
       "3                   4                  3             NaN   \n",
       "4                   4                 10             NaN   \n",
       "5                   4                 30             NaN   \n",
       "6                   6                  3             NaN   \n",
       "7                   6                 10             NaN   \n",
       "8                   6                 30             NaN   \n",
       "9                   8                  3             NaN   \n",
       "10                  8                 10             NaN   \n",
       "11                  8                 30             NaN   \n",
       "12                  2                  3           False   \n",
       "13                  2                 10           False   \n",
       "14                  3                  3           False   \n",
       "15                  3                 10           False   \n",
       "16                  4                  3           False   \n",
       "17                  4                 10           False   \n",
       "\n",
       "                                               params  split0_test_score  \\\n",
       "0              {'max_features': 2, 'n_estimators': 3}          -0.200443   \n",
       "1             {'max_features': 2, 'n_estimators': 10}          -0.172757   \n",
       "2             {'max_features': 2, 'n_estimators': 30}          -0.152824   \n",
       "3              {'max_features': 4, 'n_estimators': 3}          -0.183832   \n",
       "4             {'max_features': 4, 'n_estimators': 10}          -0.157254   \n",
       "5             {'max_features': 4, 'n_estimators': 30}          -0.137320   \n",
       "6              {'max_features': 6, 'n_estimators': 3}          -0.174972   \n",
       "7             {'max_features': 6, 'n_estimators': 10}          -0.155039   \n",
       "8             {'max_features': 6, 'n_estimators': 30}          -0.153931   \n",
       "9              {'max_features': 8, 'n_estimators': 3}          -0.173865   \n",
       "10            {'max_features': 8, 'n_estimators': 10}          -0.161683   \n",
       "11            {'max_features': 8, 'n_estimators': 30}          -0.149502   \n",
       "12  {'bootstrap': False, 'max_features': 2, 'n_est...          -0.181617   \n",
       "13  {'bootstrap': False, 'max_features': 2, 'n_est...          -0.162791   \n",
       "14  {'bootstrap': False, 'max_features': 3, 'n_est...          -0.178295   \n",
       "15  {'bootstrap': False, 'max_features': 3, 'n_est...          -0.165006   \n",
       "16  {'bootstrap': False, 'max_features': 4, 'n_est...          -0.178295   \n",
       "17  {'bootstrap': False, 'max_features': 4, 'n_est...          -0.153931   \n",
       "\n",
       "    split1_test_score  ...  mean_test_score  std_test_score  rank_test_score  \\\n",
       "0           -0.183832  ...        -0.188926        0.008186               18   \n",
       "1           -0.149502  ...        -0.163234        0.008065               11   \n",
       "2           -0.128461  ...        -0.148394        0.010028                4   \n",
       "3           -0.184939  ...        -0.178295        0.010782               14   \n",
       "4           -0.146179  ...        -0.157697        0.006130               10   \n",
       "5           -0.147287  ...        -0.145072        0.004023                3   \n",
       "6           -0.161683  ...        -0.179623        0.013073               16   \n",
       "7           -0.137320  ...        -0.152159        0.008624                5   \n",
       "8           -0.137320  ...        -0.144629        0.009945                2   \n",
       "9           -0.152824  ...        -0.169657        0.011665               13   \n",
       "10          -0.150609  ...        -0.153045        0.010398                7   \n",
       "11          -0.137320  ...        -0.143300        0.006249                1   \n",
       "12          -0.176080  ...        -0.179845        0.005885               17   \n",
       "13          -0.143965  ...        -0.156368        0.007780                9   \n",
       "14          -0.166113  ...        -0.178959        0.010773               15   \n",
       "15          -0.142857  ...        -0.154374        0.009040                8   \n",
       "16          -0.170543  ...        -0.168549        0.006396               12   \n",
       "17          -0.145072  ...        -0.153045        0.004719                6   \n",
       "\n",
       "    split0_train_score  split1_train_score  split2_train_score  \\\n",
       "0            -0.033499           -0.037375           -0.037375   \n",
       "1            -0.009690           -0.008583           -0.009413   \n",
       "2            -0.001107           -0.001661           -0.001384   \n",
       "3            -0.037099           -0.029623           -0.033499   \n",
       "4            -0.007752           -0.009967           -0.008306   \n",
       "5            -0.001661           -0.001107           -0.000554   \n",
       "6            -0.032946           -0.028516           -0.032669   \n",
       "7            -0.007475           -0.005814           -0.009967   \n",
       "8            -0.000831           -0.000831           -0.000831   \n",
       "9            -0.029070           -0.034330           -0.030454   \n",
       "10           -0.006921           -0.009690           -0.008583   \n",
       "11           -0.000831           -0.001107           -0.000554   \n",
       "12           -0.000554           -0.000277           -0.000277   \n",
       "13           -0.000554           -0.000277           -0.000277   \n",
       "14           -0.000554           -0.000277           -0.000277   \n",
       "15           -0.000554           -0.000277           -0.000277   \n",
       "16           -0.000554           -0.000277           -0.000277   \n",
       "17           -0.000554           -0.000277           -0.000277   \n",
       "\n",
       "    split3_train_score  split4_train_score  mean_train_score  std_train_score  \n",
       "0            -0.035991           -0.029623         -0.034773         0.002938  \n",
       "1            -0.008859           -0.008859         -0.009081         0.000407  \n",
       "2            -0.001384           -0.000831         -0.001274         0.000282  \n",
       "3            -0.037652           -0.033223         -0.034219         0.002923  \n",
       "4            -0.007752           -0.009136         -0.008583         0.000858  \n",
       "5            -0.000554           -0.001384         -0.001052         0.000443  \n",
       "6            -0.036822           -0.026855         -0.031561         0.003528  \n",
       "7            -0.008583           -0.007752         -0.007918         0.001363  \n",
       "8            -0.000277           -0.001107         -0.000775         0.000271  \n",
       "9            -0.027685           -0.037929         -0.031894         0.003745  \n",
       "10           -0.010244           -0.009413         -0.008970         0.001156  \n",
       "11           -0.001107           -0.001661         -0.001052         0.000367  \n",
       "12           -0.000277           -0.000554         -0.000388         0.000136  \n",
       "13           -0.000277           -0.000554         -0.000388         0.000136  \n",
       "14           -0.000277           -0.000554         -0.000388         0.000136  \n",
       "15           -0.000277           -0.000554         -0.000388         0.000136  \n",
       "16           -0.000277           -0.000554         -0.000388         0.000136  \n",
       "17           -0.000277           -0.000554         -0.000388         0.000136  \n",
       "\n",
       "[18 rows x 23 columns]"
      ]
     },
     "execution_count": 70,
     "metadata": {},
     "output_type": "execute_result"
    }
   ],
   "source": [
    "pd.DataFrame(grid_search.cv_results_)"
   ]
  },
  {
   "cell_type": "code",
   "execution_count": 71,
   "id": "d16911ac",
   "metadata": {},
   "outputs": [
    {
     "data": {
      "text/plain": [
       "array([0.18026939, 0.05238298, 0.04247973, 0.03364951, 0.0463173 ,\n",
       "       0.0425861 , 0.09018629, 0.01281721, 0.00485207, 0.00519512,\n",
       "       0.        , 0.03102287, 0.02814341, 0.07225972, 0.01902836,\n",
       "       0.016541  , 0.02373607, 0.00785249, 0.00728281, 0.0064108 ,\n",
       "       0.00725245, 0.00581743, 0.02118541, 0.03146053, 0.01226943,\n",
       "       0.01247598, 0.00335261, 0.01196616, 0.04389736, 0.04327976,\n",
       "       0.0452397 , 0.03878994])"
      ]
     },
     "execution_count": 71,
     "metadata": {},
     "output_type": "execute_result"
    }
   ],
   "source": [
    "feature_importances = grid_search.best_estimator_.feature_importances_\n",
    "feature_importances"
   ]
  },
  {
   "cell_type": "markdown",
   "id": "658a6602",
   "metadata": {},
   "source": [
    "Care sunt cele mai importante feature dupa care se va generea modelul."
   ]
  },
  {
   "cell_type": "code",
   "execution_count": 72,
   "id": "cba59ccf",
   "metadata": {
    "scrolled": true
   },
   "outputs": [
    {
     "data": {
      "text/plain": [
       "[(0.18026938629853315, 'is pr'),\n",
       " (0.09018628928212526, 'nr files'),\n",
       " (0.07225972101342831, 'nr commits2'),\n",
       " (0.05238298318803135, 'added lines'),\n",
       " (0.04631729562857329, 'devs parent2'),\n",
       " (0.04523970255961009, 'messages_mean'),\n",
       " (0.04389736458173387, 'messages_min'),\n",
       " (0.04327975533404831, 'messages_max'),\n",
       " (0.042586101448531546, 'time'),\n",
       " (0.04247972799569936, 'deleted lines'),\n",
       " (0.038789943527063525, 'messages_median'),\n",
       " (0.033649506972745005, 'devs parent1'),\n",
       " (0.031460527566855044, 'add'),\n",
       " (0.031022868988032293, 'modified files'),\n",
       " (0.028143408342686818, 'nr commits1'),\n",
       " (0.023736070561753878, 'fix'),\n",
       " (0.02118540810563455, 'update'),\n",
       " (0.019028363512909464, 'density1'),\n",
       " (0.01654100355071016, 'density2'),\n",
       " (0.012817213620527452, 'added files'),\n",
       " (0.012475977283031592, 'use'),\n",
       " (0.012269427339834597, 'remove'),\n",
       " (0.011966162202744077, 'change'),\n",
       " (0.007852489457620357, 'bug'),\n",
       " (0.007282814565996136, 'feature'),\n",
       " (0.007252449579059085, 'document'),\n",
       " (0.0064107993351093335, 'improve'),\n",
       " (0.0058174344043619075, 'refactor'),\n",
       " (0.005195122830497396, 'renamed files'),\n",
       " (0.004852069852863378, 'deleted files'),\n",
       " (0.003352611069649421, 'delete'),\n",
       " (0.0, 'copied files')]"
      ]
     },
     "execution_count": 72,
     "metadata": {},
     "output_type": "execute_result"
    }
   ],
   "source": [
    "sorted(zip(feature_importances, list(x_train)), reverse=True)"
   ]
  },
  {
   "cell_type": "code",
   "execution_count": 73,
   "id": "c35f69ec",
   "metadata": {},
   "outputs": [
    {
     "name": "stdout",
     "output_type": "stream",
     "text": [
      "RMSE model ales Tain: 0.029764673182427183\n",
      "MAE  model ales Train: 0.0008859357696566999\n",
      "RMSE model ales Test: 0.40806744957327834\n",
      "MAE model ales Test: 0.16651904340124005\n"
     ]
    }
   ],
   "source": [
    "final_model = grid_search.best_estimator_\n",
    "\n",
    "train_predictions= final_model.predict(x_train_sc)\n",
    "\n",
    "train_mse=np.sqrt(mean_squared_error( train_predictions,y_train))\n",
    "\n",
    "print(\"RMSE model ales Tain:\",train_mse)\n",
    "\n",
    "mae = mean_absolute_error(train_predictions,y_train)\n",
    "print(\"MAE  model ales Train:\",mae)\n",
    "\n",
    "final_predictions = final_model.predict(x_test_sc)\n",
    "\n",
    "final_mse = np.sqrt(mean_squared_error(final_predictions,y_test))\n",
    "\n",
    "print(\"RMSE model ales Test:\",final_mse)\n",
    "\n",
    "final_mae = mean_absolute_error( final_predictions,y_test)\n",
    "print(\"MAE model ales Test:\",final_mae)"
   ]
  },
  {
   "cell_type": "code",
   "execution_count": 74,
   "id": "a46150a0",
   "metadata": {},
   "outputs": [
    {
     "data": {
      "text/plain": [
       "0.83348095659876"
      ]
     },
     "execution_count": 74,
     "metadata": {},
     "output_type": "execute_result"
    }
   ],
   "source": [
    "accuracy_score(y_test, final_predictions)"
   ]
  },
  {
   "cell_type": "code",
   "execution_count": 75,
   "id": "75dbdb62",
   "metadata": {},
   "outputs": [
    {
     "data": {
      "text/plain": [
       "0.7592794936544937"
      ]
     },
     "execution_count": 75,
     "metadata": {},
     "output_type": "execute_result"
    }
   ],
   "source": [
    "recall_score(y_test, final_predictions, average = 'macro')"
   ]
  },
  {
   "cell_type": "code",
   "execution_count": 76,
   "id": "e6c1c9ca",
   "metadata": {
    "scrolled": false
   },
   "outputs": [
    {
     "data": {
      "text/plain": [
       "0.7188755020080321"
      ]
     },
     "execution_count": 76,
     "metadata": {},
     "output_type": "execute_result"
    }
   ],
   "source": [
    "precision_score(y_test, final_predictions, average='binary')"
   ]
  },
  {
   "cell_type": "markdown",
   "id": "0ece550c",
   "metadata": {},
   "source": [
    "Dupa cum se observa clasificatorul cu parametrii cei mai buni generat de GridSearchCV, are valorile de mai sus. Aceste valori se aseamana cel mai bine cu valorile de la Random Forest Classifier => Deci Random Forest este cel mai bun clasificator din privinta programului."
   ]
  }
 ],
 "metadata": {
  "kernelspec": {
   "display_name": "Python 3 (ipykernel)",
   "language": "python",
   "name": "python3"
  },
  "language_info": {
   "codemirror_mode": {
    "name": "ipython",
    "version": 3
   },
   "file_extension": ".py",
   "mimetype": "text/x-python",
   "name": "python",
   "nbconvert_exporter": "python",
   "pygments_lexer": "ipython3",
   "version": "3.9.7"
  }
 },
 "nbformat": 4,
 "nbformat_minor": 5
}
